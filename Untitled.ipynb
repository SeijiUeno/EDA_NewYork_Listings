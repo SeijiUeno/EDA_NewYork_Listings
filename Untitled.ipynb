{
 "cells": [
  {
   "cell_type": "markdown",
   "id": "3813a96a-3258-4bc8-81b1-19e075b364e2",
   "metadata": {},
   "source": [
    "## 1 - Analise Exploratoria dos dados, entendendo meus dados. "
   ]
  },
  {
   "cell_type": "markdown",
   "id": "5dd06ea3-166d-4ec3-90d3-be683b6aa40c",
   "metadata": {},
   "source": [
    "### Entender a Estrutura dos dados, o que temos?\n",
    " \n",
    "id – Atua como uma chave exclusiva para cada anúncio \n",
    "nos dados do aplicativo \\\n",
    "nome - Representa o nome do anúncio \\\n",
    "host_id - Representa o id do usuário que hospedou o anúncio \\\n",
    "host_name – Contém o nome do usuário que hospedou o anúncio \\\n",
    "bairro_group - Contém o nome do bairro onde o anúncio está localizado \\\n",
    "bairro - Contém o nome da área onde o anúncio está localizado \\\n",
    "latitude - Contém a latitude do local \\\n",
    "longitude - Contém a longitude do local \\\n",
    "room_type – Contém o tipo de espaço de cada anúncio \\\n",
    "price - Contém o preço por noite em dólares listado pelo anfitrião \\\n",
    "minimo_noites - Contém o número mínimo de noites que o usuário deve reservar \\\n",
    "numero_de_reviews - Contém o número de comentários dados a cada listagem \\\n",
    "ultima_review - Contém a data da última revisão dada à listagem \\\n",
    "reviews_por_mes - Contém o número de avaliações fornecidas por mês \\\n",
    "calculado_host_listings_count - Contém a quantidade de listagem por host \\\n",
    "disponibilidade_365 - Contém o número de dias em que o anúncio está disponível para reserva \\\n",
    "\n",
    "Agora vamos checar as informações, usando a biblioteca de python \"pandas\" para manipulção de dados: \\\n",
    "a. Conseguir acessar as informações da nossa Base de dados. \\\n",
    "b. Checar o arquivo e comparar com o que já temos para validar as informações. \\\n",
    "c. Verificar formas de facilitar os proximos passos \\\n",
    "d. Entender totalmente com o que estamos trabalhando"
   ]
  },
  {
   "cell_type": "markdown",
   "id": "8f33d4fe-73f4-45ef-b0cb-adbe5feb6294",
   "metadata": {},
   "source": [
    "#### a. acessar as informações da nossa Base de dados "
   ]
  },
  {
   "cell_type": "code",
   "execution_count": 1,
   "id": "7cd61190-d6a4-4a3e-ae2f-ddc9fea8824e",
   "metadata": {
    "scrolled": true
   },
   "outputs": [
    {
     "name": "stdout",
     "output_type": "stream",
     "text": [
      "Requirement already satisfied: pandas in /nfs/homes/sueno-te/desafio/data/lib/python3.8/site-packages (2.0.3)\n",
      "Requirement already satisfied: numpy>=1.20.3; python_version < \"3.10\" in /nfs/homes/sueno-te/desafio/data/lib/python3.8/site-packages (from pandas) (1.24.4)\n",
      "Requirement already satisfied: python-dateutil>=2.8.2 in /nfs/homes/sueno-te/desafio/data/lib/python3.8/site-packages (from pandas) (2.9.0.post0)\n",
      "Requirement already satisfied: tzdata>=2022.1 in /nfs/homes/sueno-te/desafio/data/lib/python3.8/site-packages (from pandas) (2025.1)\n",
      "Requirement already satisfied: pytz>=2020.1 in /nfs/homes/sueno-te/desafio/data/lib/python3.8/site-packages (from pandas) (2024.2)\n",
      "Requirement already satisfied: six>=1.5 in /nfs/homes/sueno-te/desafio/data/lib/python3.8/site-packages (from python-dateutil>=2.8.2->pandas) (1.17.0)\n"
     ]
    }
   ],
   "source": [
    "!pip install pandas"
   ]
  },
  {
   "cell_type": "code",
   "execution_count": 2,
   "id": "cd7e736a-617a-4b34-b1d3-1f1606a53834",
   "metadata": {},
   "outputs": [
    {
     "name": "stdout",
     "output_type": "stream",
     "text": [
      "<class 'pandas.core.frame.DataFrame'>\n",
      "RangeIndex: 48894 entries, 0 to 48893\n",
      "Data columns (total 16 columns):\n",
      " #   Column                         Non-Null Count  Dtype  \n",
      "---  ------                         --------------  -----  \n",
      " 0   id                             48894 non-null  int64  \n",
      " 1   nome                           48878 non-null  object \n",
      " 2   host_id                        48894 non-null  int64  \n",
      " 3   host_name                      48873 non-null  object \n",
      " 4   bairro_group                   48894 non-null  object \n",
      " 5   bairro                         48894 non-null  object \n",
      " 6   latitude                       48894 non-null  float64\n",
      " 7   longitude                      48894 non-null  float64\n",
      " 8   room_type                      48894 non-null  object \n",
      " 9   price                          48894 non-null  int64  \n",
      " 10  minimo_noites                  48894 non-null  int64  \n",
      " 11  numero_de_reviews              48894 non-null  int64  \n",
      " 12  ultima_review                  38842 non-null  object \n",
      " 13  reviews_por_mes                38842 non-null  float64\n",
      " 14  calculado_host_listings_count  48894 non-null  int64  \n",
      " 15  disponibilidade_365            48894 non-null  int64  \n",
      "dtypes: float64(3), int64(7), object(6)\n",
      "memory usage: 6.0+ MB\n",
      "None\n"
     ]
    }
   ],
   "source": [
    "import pandas as pd\n",
    "\n",
    "source = \"https://drive.google.com/uc?id=1e1nrIDl-_9YwQNZwbCpWlqylotFlTpya\"\n",
    "dataBase = pd.read_csv(source)\n",
    "\n",
    "# Verificar o acesso ao arquivo, e monstrar suas informações\n",
    "print(dataBase.info())"
   ]
  },
  {
   "cell_type": "markdown",
   "id": "1661d509-de74-44ef-9155-74d182b36efd",
   "metadata": {},
   "source": [
    "#### b. validar as informações"
   ]
  },
  {
   "cell_type": "code",
   "execution_count": 3,
   "id": "9c3f1cf2-486f-4eaa-8e0b-566a4de31761",
   "metadata": {},
   "outputs": [
    {
     "data": {
      "text/html": [
       "<div>\n",
       "<style scoped>\n",
       "    .dataframe tbody tr th:only-of-type {\n",
       "        vertical-align: middle;\n",
       "    }\n",
       "\n",
       "    .dataframe tbody tr th {\n",
       "        vertical-align: top;\n",
       "    }\n",
       "\n",
       "    .dataframe thead th {\n",
       "        text-align: right;\n",
       "    }\n",
       "</style>\n",
       "<table border=\"1\" class=\"dataframe\">\n",
       "  <thead>\n",
       "    <tr style=\"text-align: right;\">\n",
       "      <th></th>\n",
       "      <th>id</th>\n",
       "      <th>nome</th>\n",
       "      <th>host_id</th>\n",
       "      <th>host_name</th>\n",
       "      <th>bairro_group</th>\n",
       "      <th>bairro</th>\n",
       "      <th>latitude</th>\n",
       "      <th>longitude</th>\n",
       "      <th>room_type</th>\n",
       "      <th>price</th>\n",
       "      <th>minimo_noites</th>\n",
       "      <th>numero_de_reviews</th>\n",
       "      <th>ultima_review</th>\n",
       "      <th>reviews_por_mes</th>\n",
       "      <th>calculado_host_listings_count</th>\n",
       "      <th>disponibilidade_365</th>\n",
       "    </tr>\n",
       "  </thead>\n",
       "  <tbody>\n",
       "    <tr>\n",
       "      <th>0</th>\n",
       "      <td>2595</td>\n",
       "      <td>Skylit Midtown Castle</td>\n",
       "      <td>2845</td>\n",
       "      <td>Jennifer</td>\n",
       "      <td>Manhattan</td>\n",
       "      <td>Midtown</td>\n",
       "      <td>40.75362</td>\n",
       "      <td>-73.98377</td>\n",
       "      <td>Entire home/apt</td>\n",
       "      <td>225</td>\n",
       "      <td>1</td>\n",
       "      <td>45</td>\n",
       "      <td>2019-05-21</td>\n",
       "      <td>0.38</td>\n",
       "      <td>2</td>\n",
       "      <td>355</td>\n",
       "    </tr>\n",
       "    <tr>\n",
       "      <th>1</th>\n",
       "      <td>3647</td>\n",
       "      <td>THE VILLAGE OF HARLEM....NEW YORK !</td>\n",
       "      <td>4632</td>\n",
       "      <td>Elisabeth</td>\n",
       "      <td>Manhattan</td>\n",
       "      <td>Harlem</td>\n",
       "      <td>40.80902</td>\n",
       "      <td>-73.94190</td>\n",
       "      <td>Private room</td>\n",
       "      <td>150</td>\n",
       "      <td>3</td>\n",
       "      <td>0</td>\n",
       "      <td>NaN</td>\n",
       "      <td>NaN</td>\n",
       "      <td>1</td>\n",
       "      <td>365</td>\n",
       "    </tr>\n",
       "    <tr>\n",
       "      <th>2</th>\n",
       "      <td>3831</td>\n",
       "      <td>Cozy Entire Floor of Brownstone</td>\n",
       "      <td>4869</td>\n",
       "      <td>LisaRoxanne</td>\n",
       "      <td>Brooklyn</td>\n",
       "      <td>Clinton Hill</td>\n",
       "      <td>40.68514</td>\n",
       "      <td>-73.95976</td>\n",
       "      <td>Entire home/apt</td>\n",
       "      <td>89</td>\n",
       "      <td>1</td>\n",
       "      <td>270</td>\n",
       "      <td>2019-07-05</td>\n",
       "      <td>4.64</td>\n",
       "      <td>1</td>\n",
       "      <td>194</td>\n",
       "    </tr>\n",
       "  </tbody>\n",
       "</table>\n",
       "</div>"
      ],
      "text/plain": [
       "     id                                 nome  host_id    host_name  \\\n",
       "0  2595                Skylit Midtown Castle     2845     Jennifer   \n",
       "1  3647  THE VILLAGE OF HARLEM....NEW YORK !     4632    Elisabeth   \n",
       "2  3831      Cozy Entire Floor of Brownstone     4869  LisaRoxanne   \n",
       "\n",
       "  bairro_group        bairro  latitude  longitude        room_type  price  \\\n",
       "0    Manhattan       Midtown  40.75362  -73.98377  Entire home/apt    225   \n",
       "1    Manhattan        Harlem  40.80902  -73.94190     Private room    150   \n",
       "2     Brooklyn  Clinton Hill  40.68514  -73.95976  Entire home/apt     89   \n",
       "\n",
       "   minimo_noites  numero_de_reviews ultima_review  reviews_por_mes  \\\n",
       "0              1                 45    2019-05-21             0.38   \n",
       "1              3                  0           NaN              NaN   \n",
       "2              1                270    2019-07-05             4.64   \n",
       "\n",
       "   calculado_host_listings_count  disponibilidade_365  \n",
       "0                              2                  355  \n",
       "1                              1                  365  \n",
       "2                              1                  194  "
      ]
     },
     "execution_count": 3,
     "metadata": {},
     "output_type": "execute_result"
    }
   ],
   "source": [
    "# Estrutura dos nossos dados\n",
    "dataBase.head(3)"
   ]
  },
  {
   "cell_type": "code",
   "execution_count": 4,
   "id": "143b87f7-e66d-462b-8579-adcbcd482052",
   "metadata": {},
   "outputs": [
    {
     "name": "stdout",
     "output_type": "stream",
     "text": [
      "Tipos de quartos possiveis:\n",
      "['Entire home/apt' 'Private room' 'Shared room']\n"
     ]
    }
   ],
   "source": [
    "print(\"Tipos de quartos possiveis:\")\n",
    "print(dataBase['room_type'].unique())"
   ]
  },
  {
   "cell_type": "code",
   "execution_count": 5,
   "id": "37909439-e6f0-43f5-b3de-196f8efd0627",
   "metadata": {},
   "outputs": [
    {
     "name": "stdout",
     "output_type": "stream",
     "text": [
      "Regiões da nossa base de dados (bairro_group):\n",
      "['Manhattan' 'Brooklyn' 'Queens' 'Staten Island' 'Bronx']\n"
     ]
    }
   ],
   "source": [
    "print(\"Regiões da nossa base de dados (bairro_group):\")\n",
    "print((dataBase['bairro_group'].unique()))"
   ]
  },
  {
   "cell_type": "code",
   "execution_count": 6,
   "id": "9cdbb948-c3b9-40a8-97cb-56c705771dd7",
   "metadata": {
    "scrolled": true
   },
   "outputs": [
    {
     "name": "stdout",
     "output_type": "stream",
     "text": [
      "Numero de bairros de cada região:\n",
      "( 1 ) Manhattan neighborhoods: 32\n",
      "( 2 ) Brooklyn neighborhoods: 47\n",
      "( 3 ) Queens neighborhoods: 51\n",
      "( 4 ) Staten Island neighborhoods: 43\n",
      "( 5 ) Bronx neighborhoods: 48\n",
      "Numero total de bairros: 221\n"
     ]
    }
   ],
   "source": [
    "print(\"Numero de bairros de cada região:\")\n",
    "\n",
    "bairros = 0\n",
    "i = 1;\n",
    "for group in dataBase['bairro_group'].unique():\n",
    "    bairro_group_unique = dataBase[dataBase['bairro_group'] == group]\n",
    "    bairro_unique = bairro_group_unique['bairro'].unique()\n",
    "    numero_de_bairros = len(bairro_unique)\n",
    "    bairros += numero_de_bairros\n",
    "    print(f\"( {i} ) {group} neighborhoods: {numero_de_bairros}\")\n",
    "    i = i + 1\n",
    "print(f\"Numero total de bairros: {bairros}\")"
   ]
  },
  {
   "cell_type": "code",
   "execution_count": 7,
   "id": "1cd11716-b8c2-4e9c-9c3c-93f72593b009",
   "metadata": {},
   "outputs": [
    {
     "name": "stdout",
     "output_type": "stream",
     "text": [
      "Valores Nulos em Nossa Base de dados:\n",
      "id                                   0\n",
      "nome                                16\n",
      "host_id                              0\n",
      "host_name                           21\n",
      "bairro_group                         0\n",
      "bairro                               0\n",
      "latitude                             0\n",
      "longitude                            0\n",
      "room_type                            0\n",
      "price                                0\n",
      "minimo_noites                        0\n",
      "numero_de_reviews                    0\n",
      "ultima_review                    10052\n",
      "reviews_por_mes                  10052\n",
      "calculado_host_listings_count        0\n",
      "disponibilidade_365                  0\n",
      "dtype: int64\n"
     ]
    }
   ],
   "source": [
    "print(\"Valores Nulos em Nossa Base de dados:\")\n",
    "print((dataBase.isnull()).sum())"
   ]
  },
  {
   "cell_type": "code",
   "execution_count": 8,
   "id": "0c27f146-99ad-4a4d-8056-76331d6ca6b1",
   "metadata": {
    "scrolled": true
   },
   "outputs": [
    {
     "data": {
      "text/html": [
       "<div>\n",
       "<style scoped>\n",
       "    .dataframe tbody tr th:only-of-type {\n",
       "        vertical-align: middle;\n",
       "    }\n",
       "\n",
       "    .dataframe tbody tr th {\n",
       "        vertical-align: top;\n",
       "    }\n",
       "\n",
       "    .dataframe thead th {\n",
       "        text-align: right;\n",
       "    }\n",
       "</style>\n",
       "<table border=\"1\" class=\"dataframe\">\n",
       "  <thead>\n",
       "    <tr style=\"text-align: right;\">\n",
       "      <th></th>\n",
       "      <th>id</th>\n",
       "      <th>host_id</th>\n",
       "      <th>latitude</th>\n",
       "      <th>longitude</th>\n",
       "      <th>price</th>\n",
       "      <th>minimo_noites</th>\n",
       "      <th>numero_de_reviews</th>\n",
       "      <th>reviews_por_mes</th>\n",
       "      <th>calculado_host_listings_count</th>\n",
       "      <th>disponibilidade_365</th>\n",
       "    </tr>\n",
       "  </thead>\n",
       "  <tbody>\n",
       "    <tr>\n",
       "      <th>count</th>\n",
       "      <td>4.889400e+04</td>\n",
       "      <td>4.889400e+04</td>\n",
       "      <td>48894.000000</td>\n",
       "      <td>48894.000000</td>\n",
       "      <td>48894.000000</td>\n",
       "      <td>48894.000000</td>\n",
       "      <td>48894.000000</td>\n",
       "      <td>38842.000000</td>\n",
       "      <td>48894.000000</td>\n",
       "      <td>48894.000000</td>\n",
       "    </tr>\n",
       "    <tr>\n",
       "      <th>mean</th>\n",
       "      <td>1.901753e+07</td>\n",
       "      <td>6.762139e+07</td>\n",
       "      <td>40.728951</td>\n",
       "      <td>-73.952169</td>\n",
       "      <td>152.720763</td>\n",
       "      <td>7.030085</td>\n",
       "      <td>23.274758</td>\n",
       "      <td>1.373251</td>\n",
       "      <td>7.144005</td>\n",
       "      <td>112.776169</td>\n",
       "    </tr>\n",
       "    <tr>\n",
       "      <th>std</th>\n",
       "      <td>1.098288e+07</td>\n",
       "      <td>7.861118e+07</td>\n",
       "      <td>0.054529</td>\n",
       "      <td>0.046157</td>\n",
       "      <td>240.156625</td>\n",
       "      <td>20.510741</td>\n",
       "      <td>44.550991</td>\n",
       "      <td>1.680453</td>\n",
       "      <td>32.952855</td>\n",
       "      <td>131.618692</td>\n",
       "    </tr>\n",
       "    <tr>\n",
       "      <th>min</th>\n",
       "      <td>2.595000e+03</td>\n",
       "      <td>2.438000e+03</td>\n",
       "      <td>40.499790</td>\n",
       "      <td>-74.244420</td>\n",
       "      <td>0.000000</td>\n",
       "      <td>1.000000</td>\n",
       "      <td>0.000000</td>\n",
       "      <td>0.010000</td>\n",
       "      <td>1.000000</td>\n",
       "      <td>0.000000</td>\n",
       "    </tr>\n",
       "    <tr>\n",
       "      <th>25%</th>\n",
       "      <td>9.472371e+06</td>\n",
       "      <td>7.822737e+06</td>\n",
       "      <td>40.690100</td>\n",
       "      <td>-73.983070</td>\n",
       "      <td>69.000000</td>\n",
       "      <td>1.000000</td>\n",
       "      <td>1.000000</td>\n",
       "      <td>0.190000</td>\n",
       "      <td>1.000000</td>\n",
       "      <td>0.000000</td>\n",
       "    </tr>\n",
       "    <tr>\n",
       "      <th>50%</th>\n",
       "      <td>1.967743e+07</td>\n",
       "      <td>3.079553e+07</td>\n",
       "      <td>40.723075</td>\n",
       "      <td>-73.955680</td>\n",
       "      <td>106.000000</td>\n",
       "      <td>3.000000</td>\n",
       "      <td>5.000000</td>\n",
       "      <td>0.720000</td>\n",
       "      <td>1.000000</td>\n",
       "      <td>45.000000</td>\n",
       "    </tr>\n",
       "    <tr>\n",
       "      <th>75%</th>\n",
       "      <td>2.915225e+07</td>\n",
       "      <td>1.074344e+08</td>\n",
       "      <td>40.763117</td>\n",
       "      <td>-73.936273</td>\n",
       "      <td>175.000000</td>\n",
       "      <td>5.000000</td>\n",
       "      <td>24.000000</td>\n",
       "      <td>2.020000</td>\n",
       "      <td>2.000000</td>\n",
       "      <td>227.000000</td>\n",
       "    </tr>\n",
       "    <tr>\n",
       "      <th>max</th>\n",
       "      <td>3.648724e+07</td>\n",
       "      <td>2.743213e+08</td>\n",
       "      <td>40.913060</td>\n",
       "      <td>-73.712990</td>\n",
       "      <td>10000.000000</td>\n",
       "      <td>1250.000000</td>\n",
       "      <td>629.000000</td>\n",
       "      <td>58.500000</td>\n",
       "      <td>327.000000</td>\n",
       "      <td>365.000000</td>\n",
       "    </tr>\n",
       "  </tbody>\n",
       "</table>\n",
       "</div>"
      ],
      "text/plain": [
       "                 id       host_id      latitude     longitude         price  \\\n",
       "count  4.889400e+04  4.889400e+04  48894.000000  48894.000000  48894.000000   \n",
       "mean   1.901753e+07  6.762139e+07     40.728951    -73.952169    152.720763   \n",
       "std    1.098288e+07  7.861118e+07      0.054529      0.046157    240.156625   \n",
       "min    2.595000e+03  2.438000e+03     40.499790    -74.244420      0.000000   \n",
       "25%    9.472371e+06  7.822737e+06     40.690100    -73.983070     69.000000   \n",
       "50%    1.967743e+07  3.079553e+07     40.723075    -73.955680    106.000000   \n",
       "75%    2.915225e+07  1.074344e+08     40.763117    -73.936273    175.000000   \n",
       "max    3.648724e+07  2.743213e+08     40.913060    -73.712990  10000.000000   \n",
       "\n",
       "       minimo_noites  numero_de_reviews  reviews_por_mes  \\\n",
       "count   48894.000000       48894.000000     38842.000000   \n",
       "mean        7.030085          23.274758         1.373251   \n",
       "std        20.510741          44.550991         1.680453   \n",
       "min         1.000000           0.000000         0.010000   \n",
       "25%         1.000000           1.000000         0.190000   \n",
       "50%         3.000000           5.000000         0.720000   \n",
       "75%         5.000000          24.000000         2.020000   \n",
       "max      1250.000000         629.000000        58.500000   \n",
       "\n",
       "       calculado_host_listings_count  disponibilidade_365  \n",
       "count                   48894.000000         48894.000000  \n",
       "mean                        7.144005           112.776169  \n",
       "std                        32.952855           131.618692  \n",
       "min                         1.000000             0.000000  \n",
       "25%                         1.000000             0.000000  \n",
       "50%                         1.000000            45.000000  \n",
       "75%                         2.000000           227.000000  \n",
       "max                       327.000000           365.000000  "
      ]
     },
     "execution_count": 8,
     "metadata": {},
     "output_type": "execute_result"
    }
   ],
   "source": [
    "dataBase.describe()"
   ]
  },
  {
   "cell_type": "markdown",
   "id": "684218ff-8f5f-45e1-8358-f1b4028e3934",
   "metadata": {},
   "source": [
    "#### c. Verificar formas de facilitar os proximos passos "
   ]
  },
  {
   "cell_type": "markdown",
   "id": "df28a3f4-922f-4d83-939b-55b232c23cd4",
   "metadata": {
    "jp-MarkdownHeadingCollapsed": true
   },
   "source": [
    "Agora que temos a visão geral da nossa base de dados, além de informações relevantes como tipos de dados errados, dados incompletos, vamos proseguir para uma analise estatistica inicial, para comparação futura.\n",
    "\n",
    "Uma das melhores formas de entender outliers, informações incorretas, etc... em nossos dados, é utilizar graficos como Box-Plot (dataBases de pequena a media) ideal para valores extremos em variaveis unicas. \\\n",
    "E Histogramas para a frequencia de destribuição. será que nossos dados sequem a distribuição gaussiana?\n",
    "\n",
    "No final pensando no Residual plot, para detectar outliers que podem afetar nossa analise de regressão, apontando para residuais altos, e analisar\n",
    "desvios do modelo."
   ]
  },
  {
   "cell_type": "code",
   "execution_count": 9,
   "id": "94e645c6-553e-4e46-ad79-1390e5244630",
   "metadata": {
    "scrolled": true
   },
   "outputs": [
    {
     "name": "stdout",
     "output_type": "stream",
     "text": [
      "Requirement already satisfied: matplotlib in /nfs/homes/sueno-te/desafio/data/lib/python3.8/site-packages (3.7.5)\n",
      "Requirement already satisfied: kiwisolver>=1.0.1 in /nfs/homes/sueno-te/desafio/data/lib/python3.8/site-packages (from matplotlib) (1.4.7)\n",
      "Requirement already satisfied: contourpy>=1.0.1 in /nfs/homes/sueno-te/desafio/data/lib/python3.8/site-packages (from matplotlib) (1.1.1)\n",
      "Requirement already satisfied: numpy<2,>=1.20 in /nfs/homes/sueno-te/desafio/data/lib/python3.8/site-packages (from matplotlib) (1.24.4)\n",
      "Requirement already satisfied: packaging>=20.0 in /nfs/homes/sueno-te/desafio/data/lib/python3.8/site-packages (from matplotlib) (24.2)\n",
      "Requirement already satisfied: pillow>=6.2.0 in /nfs/homes/sueno-te/desafio/data/lib/python3.8/site-packages (from matplotlib) (10.4.0)\n",
      "Requirement already satisfied: python-dateutil>=2.7 in /nfs/homes/sueno-te/desafio/data/lib/python3.8/site-packages (from matplotlib) (2.9.0.post0)\n",
      "Requirement already satisfied: importlib-resources>=3.2.0; python_version < \"3.10\" in /nfs/homes/sueno-te/desafio/data/lib/python3.8/site-packages (from matplotlib) (6.4.5)\n",
      "Requirement already satisfied: cycler>=0.10 in /nfs/homes/sueno-te/desafio/data/lib/python3.8/site-packages (from matplotlib) (0.12.1)\n",
      "Requirement already satisfied: fonttools>=4.22.0 in /nfs/homes/sueno-te/desafio/data/lib/python3.8/site-packages (from matplotlib) (4.55.8)\n",
      "Requirement already satisfied: pyparsing>=2.3.1 in /nfs/homes/sueno-te/desafio/data/lib/python3.8/site-packages (from matplotlib) (3.1.4)\n",
      "Requirement already satisfied: six>=1.5 in /nfs/homes/sueno-te/desafio/data/lib/python3.8/site-packages (from python-dateutil>=2.7->matplotlib) (1.17.0)\n",
      "Requirement already satisfied: zipp>=3.1.0; python_version < \"3.10\" in /nfs/homes/sueno-te/desafio/data/lib/python3.8/site-packages (from importlib-resources>=3.2.0; python_version < \"3.10\"->matplotlib) (3.20.2)\n",
      "Requirement already satisfied: seaborn in /nfs/homes/sueno-te/desafio/data/lib/python3.8/site-packages (0.13.2)\n",
      "Requirement already satisfied: pandas>=1.2 in /nfs/homes/sueno-te/desafio/data/lib/python3.8/site-packages (from seaborn) (2.0.3)\n",
      "Requirement already satisfied: numpy!=1.24.0,>=1.20 in /nfs/homes/sueno-te/desafio/data/lib/python3.8/site-packages (from seaborn) (1.24.4)\n",
      "Requirement already satisfied: matplotlib!=3.6.1,>=3.4 in /nfs/homes/sueno-te/desafio/data/lib/python3.8/site-packages (from seaborn) (3.7.5)\n",
      "Requirement already satisfied: tzdata>=2022.1 in /nfs/homes/sueno-te/desafio/data/lib/python3.8/site-packages (from pandas>=1.2->seaborn) (2025.1)\n",
      "Requirement already satisfied: python-dateutil>=2.8.2 in /nfs/homes/sueno-te/desafio/data/lib/python3.8/site-packages (from pandas>=1.2->seaborn) (2.9.0.post0)\n",
      "Requirement already satisfied: pytz>=2020.1 in /nfs/homes/sueno-te/desafio/data/lib/python3.8/site-packages (from pandas>=1.2->seaborn) (2024.2)\n",
      "Requirement already satisfied: contourpy>=1.0.1 in /nfs/homes/sueno-te/desafio/data/lib/python3.8/site-packages (from matplotlib!=3.6.1,>=3.4->seaborn) (1.1.1)\n",
      "Requirement already satisfied: fonttools>=4.22.0 in /nfs/homes/sueno-te/desafio/data/lib/python3.8/site-packages (from matplotlib!=3.6.1,>=3.4->seaborn) (4.55.8)\n",
      "Requirement already satisfied: pillow>=6.2.0 in /nfs/homes/sueno-te/desafio/data/lib/python3.8/site-packages (from matplotlib!=3.6.1,>=3.4->seaborn) (10.4.0)\n",
      "Requirement already satisfied: packaging>=20.0 in /nfs/homes/sueno-te/desafio/data/lib/python3.8/site-packages (from matplotlib!=3.6.1,>=3.4->seaborn) (24.2)\n",
      "Requirement already satisfied: cycler>=0.10 in /nfs/homes/sueno-te/desafio/data/lib/python3.8/site-packages (from matplotlib!=3.6.1,>=3.4->seaborn) (0.12.1)\n",
      "Requirement already satisfied: pyparsing>=2.3.1 in /nfs/homes/sueno-te/desafio/data/lib/python3.8/site-packages (from matplotlib!=3.6.1,>=3.4->seaborn) (3.1.4)\n",
      "Requirement already satisfied: kiwisolver>=1.0.1 in /nfs/homes/sueno-te/desafio/data/lib/python3.8/site-packages (from matplotlib!=3.6.1,>=3.4->seaborn) (1.4.7)\n",
      "Requirement already satisfied: importlib-resources>=3.2.0; python_version < \"3.10\" in /nfs/homes/sueno-te/desafio/data/lib/python3.8/site-packages (from matplotlib!=3.6.1,>=3.4->seaborn) (6.4.5)\n",
      "Requirement already satisfied: six>=1.5 in /nfs/homes/sueno-te/desafio/data/lib/python3.8/site-packages (from python-dateutil>=2.8.2->pandas>=1.2->seaborn) (1.17.0)\n",
      "Requirement already satisfied: zipp>=3.1.0; python_version < \"3.10\" in /nfs/homes/sueno-te/desafio/data/lib/python3.8/site-packages (from importlib-resources>=3.2.0; python_version < \"3.10\"->matplotlib!=3.6.1,>=3.4->seaborn) (3.20.2)\n"
     ]
    }
   ],
   "source": [
    "!pip install matplotlib\n",
    "!pip install seaborn"
   ]
  },
  {
   "cell_type": "markdown",
   "id": "2201a430-791c-4747-8d05-416ba0fd1434",
   "metadata": {},
   "source": [
    "##### Funções"
   ]
  },
  {
   "cell_type": "code",
   "execution_count": 10,
   "id": "702dfce1-a522-4aa2-8f7e-62b1394747fe",
   "metadata": {},
   "outputs": [],
   "source": [
    "import matplotlib.pyplot as plt\n",
    "import seaborn as sns\n",
    "import os"
   ]
  },
  {
   "cell_type": "code",
   "execution_count": 11,
   "id": "9472f748-a02e-4cd5-a989-06e76574e759",
   "metadata": {
    "jupyter": {
     "source_hidden": true
    }
   },
   "outputs": [],
   "source": [
    "def save_figure(nome_arquivo, pasta, figure):\n",
    "    if not os.path.exists(pasta):\n",
    "        os.makedirs(pasta)\n",
    "    caminho_arquivo = os.path.join(pasta, nome_arquivo)\n",
    "    figure.savefig(caminho_arquivo)\n",
    "    plt.close()\n",
    "\n",
    "def plot_boxplot(nome_arquivo, pasta, titulo, coluna, dataBase, legenda_x):\n",
    "    fig, ax = plt.subplots(figsize=(12, 8))\n",
    "    sns.boxplot(x=dataBase[coluna], color='blue', ax=ax)\n",
    "    ax.set_title(titulo, fontsize=15, style='italic', pad=20)\n",
    "    ax.set_xlabel(legenda_x, fontsize=10)\n",
    "    plt.show()\n",
    "    save_figure(nome_arquivo, pasta, fig)\n",
    "\n",
    "def plot_histogram(nome_arquivo, pasta, titulo, coluna, dataBase, legenda_x):\n",
    "    fig, ax = plt.subplots(figsize=(12, 8))\n",
    "    max_value_x = dataBase[coluna].max() * 1.1\n",
    "    sns.histplot(dataBase[coluna], bins=75, kde=True, color='green', ax=ax)\n",
    "    sns.rugplot(dataBase[coluna], color='red', height=0.01, ax=ax)\n",
    "    ax.set_title(titulo, fontsize=15, style='italic', pad=20)\n",
    "    ax.set_xlabel(legenda_x, fontsize=10)\n",
    "    ax.set_ylabel('Frequencia', fontsize=10)\n",
    "    ax.set_xlim(0, max_value_x)\n",
    "    plt.show()\n",
    "    save_figure(nome_arquivo, pasta, fig)\n",
    "    \n",
    "def plot_heatmap(nome_arquivo, pasta, titulo, dataBase, valores, indices, colunas, media=\"Mediana\"):\n",
    "    fig, ax = plt.subplots(figsize=(12, 8))\n",
    "    pivot_data = dataBase.pivot_table(values=valores, index=indices, columns=colunas)\n",
    "    sns.heatmap(pivot_data, annot=True, cmap='YlOrBr', fmt='.0f', \n",
    "                linewidths=.5, cbar_kws={'label': media}, ax=ax)\n",
    "    ax.set_title(titulo)\n",
    "    ax.set_xlabel(colunas)\n",
    "    ax.set_ylabel(indices)\n",
    "    plt.show()\n",
    "    save_figure(nome_arquivo, pasta, fig)\n",
    "\n",
    "def plot_scatter(nome_arquivo, pasta, titulo, dataBase, x_col, y_col, hue_col,\n",
    "                 legenda_x='X', legenda_y='Y', figsize=(12, 8)):\n",
    "    fig, ax = plt.subplots(figsize=figsize)\n",
    "    sns.scatterplot(data=dataBase, x=x_col, y=y_col, hue=hue_col, ax=ax, palette='viridis')\n",
    "    ax.set_title(titulo, fontsize=15, style='italic', pad=20)\n",
    "    ax.set_xlabel(legenda_x, fontsize=12)\n",
    "    ax.set_ylabel(legenda_y, fontsize=12)\n",
    "    if hue_col:\n",
    "        ax.legend(title=hue_col, bbox_to_anchor=(1.03, 1), loc='upper left')\n",
    "    plt.show()\n",
    "    save_figure(nome_arquivo, pasta, fig)\n"
   ]
  },
  {
   "cell_type": "markdown",
   "id": "51441036-7117-4829-8872-84be877e8bc5",
   "metadata": {
    "jp-MarkdownHeadingCollapsed": true
   },
   "source": [
    "#### Graficos HISTOGRAMAS_EDA_P1"
   ]
  },
  {
   "cell_type": "code",
   "execution_count": null,
   "id": "83074d21-2e82-40e5-9721-24642ab8c5f0",
   "metadata": {
    "jupyter": {
     "source_hidden": true
    },
    "scrolled": true
   },
   "outputs": [],
   "source": [
    "plot_histogram(\n",
    "    nome_arquivo='histograma_night_EDA_P1.png',\n",
    "    pasta = 'EDA_P1',\n",
    "    titulo='Distribuição de noites minimas + kde',\n",
    "    coluna='minimo_noites',\n",
    "    dataBase=dataBase, \n",
    "    legenda_x='Noites Minimas'\n",
    ")\n",
    "\n",
    "plot_histogram(\n",
    "    nome_arquivo='histograma_price_EDA_P1.png',\n",
    "    pasta = 'EDA_P1',\n",
    "    titulo='Distribuição de preços + kde',\n",
    "    coluna='price',\n",
    "    dataBase=dataBase, \n",
    "    legenda_x='Preço'\n",
    ")\n",
    "\n",
    "plot_histogram(\n",
    "    nome_arquivo='histograma_reviews_EDA_P1.png',\n",
    "    pasta = 'EDA_P1',\n",
    "    titulo='Distribuição de Reviews + kde',\n",
    "    coluna='numero_de_reviews',\n",
    "    dataBase=dataBase, \n",
    "    legenda_x='Reviews'\n",
    ")\n",
    "\n",
    "plot_histogram(\n",
    "    nome_arquivo='histograma_reviewPorMes_EDA_P1.png',\n",
    "    pasta = 'EDA_P1',\n",
    "    titulo='Distribuição Reviews por mes + kde',\n",
    "    coluna='reviews_por_mes',\n",
    "    dataBase=dataBase, \n",
    "    legenda_x='Reviews Por Mes'\n",
    ")\n",
    "\n",
    "plot_histogram(\n",
    "    nome_arquivo='histograma_listings_EDA_P1.png',\n",
    "    pasta = 'EDA_P1',\n",
    "    titulo='Distribuição Listagens + kde',\n",
    "    coluna='calculado_host_listings_count',\n",
    "    dataBase=dataBase, \n",
    "    legenda_x='Numero de Listagens'\n",
    ")\n",
    "\n",
    "plot_histogram(\n",
    "    nome_arquivo='histograma_disponibilidade_EDA_P1.png',\n",
    "    pasta = 'EDA_P1',\n",
    "    titulo='Distribuição Disponibilidade + kde',\n",
    "    coluna='disponibilidade_365',\n",
    "    dataBase=dataBase, \n",
    "    legenda_x='Disponibilidade'\n",
    ")"
   ]
  },
  {
   "cell_type": "markdown",
   "id": "a09bc01f-5ffb-4932-8df1-a62a71aaa27f",
   "metadata": {
    "jp-MarkdownHeadingCollapsed": true
   },
   "source": [
    "#### Graficos De vela  EDA_P1"
   ]
  },
  {
   "cell_type": "code",
   "execution_count": null,
   "id": "9b0a9e09-ddf8-4340-9eeb-93e08965acb5",
   "metadata": {
    "jupyter": {
     "source_hidden": true
    }
   },
   "outputs": [],
   "source": [
    "plot_boxplot(\n",
    "    nome_arquivo='boxplot_night_EDA_P1.png',\n",
    "    pasta = 'EDA_P1',\n",
    "    titulo='Variabilidade em vela de noites minimas',\n",
    "    coluna='minimo_noites',\n",
    "    dataBase=dataBase, \n",
    "    legenda_x='Noites Minimas'\n",
    ")\n",
    "\n",
    "plot_boxplot(\n",
    "    nome_arquivo='boxplot_price_EDA_P1.png',\n",
    "    pasta = 'EDA_P1',\n",
    "    titulo='Variabilidade em vela de preços',\n",
    "    coluna='price',\n",
    "    dataBase=dataBase, \n",
    "    legenda_x='Preço'\n",
    ")\n",
    "\n",
    "plot_boxplot(\n",
    "    nome_arquivo='boxplot_reviews_EDA_P1.png',\n",
    "    pasta = 'EDA_P1',\n",
    "    titulo='Variabilidade em vela de Reviews',\n",
    "    coluna='numero_de_reviews',\n",
    "    dataBase=dataBase, \n",
    "    legenda_x='Reviews'\n",
    ")\n",
    "\n",
    "plot_boxplot(\n",
    "    nome_arquivo='boxplot_reviewPorMes_EDA_P1.png',\n",
    "    pasta = 'EDA_P1',\n",
    "    titulo='Variabilidade em vela de Reviews por mes',\n",
    "    coluna='reviews_por_mes',\n",
    "    dataBase=dataBase, \n",
    "    legenda_x='Reviews Por Mes'\n",
    ")\n",
    "\n",
    "plot_boxplot(\n",
    "    nome_arquivo='boxplot_listings_EDA_P1.png',\n",
    "    pasta = 'EDA_P1',\n",
    "    titulo='Variabilidade em vela de Listagens',\n",
    "    coluna='calculado_host_listings_count',\n",
    "    dataBase=dataBase, \n",
    "    legenda_x='Numero de Listagens'\n",
    ")\n",
    "\n",
    "plot_boxplot(\n",
    "    nome_arquivo='boxplot_disponibilidade_EDA_P1.png',\n",
    "    pasta = 'EDA_P1',\n",
    "    titulo='Variabilidade em vela de Disponibilidade',\n",
    "    coluna='disponibilidade_365',\n",
    "    dataBase=dataBase, \n",
    "    legenda_x='Disponibilidade'\n",
    ")"
   ]
  },
  {
   "cell_type": "markdown",
   "id": "c1798b1a-e233-487b-8636-fe1927124bd6",
   "metadata": {},
   "source": [
    "#### Grafico de Calor"
   ]
  },
  {
   "cell_type": "code",
   "execution_count": null,
   "id": "9f0c8ce5-bb70-4191-9fca-61eb7eeb1944",
   "metadata": {},
   "outputs": [],
   "source": [
    "# Separar por bairros\n",
    "bairros = dataBase.groupby('bairro_group')\n",
    "\n",
    "# Fazer a mediana dos dados, para reduzir o efeito dos outliers\n",
    "mediana_por_bairro = bairros.agg({\n",
    "    'price': 'median',\n",
    "    'minimo_noites': 'median',\n",
    "    'numero_de_reviews': 'median',\n",
    "    'reviews_por_mes': 'median',\n",
    "    'disponibilidade_365': 'median',\n",
    "    'calculado_host_listings_count': 'median',\n",
    "})\n",
    "\n",
    "# Coloca os bairros em uma coluna \n",
    "mediana_por_bairro = mediana_por_bairro.reset_index()\n",
    "\n",
    "# Converter em formato longo para o heatmap (colunas viram linhas, para preservar bairros, nomes, mediana)\n",
    "dados_longos = mediana_por_bairro.melt(\n",
    "    id_vars=['bairro_group'],\n",
    "    var_name='metrica',\n",
    "    value_name='mediana'\n",
    ")\n",
    "\n",
    "plot_heatmap(\n",
    "    nome_arquivo='heatmap_medianas_EDA_P1.png', \n",
    "    pasta = 'EDA_P1',\n",
    "    titulo='Comparação de Medidas Centrais por Região',\n",
    "    dataBase=dados_longos,\n",
    "    valores='mediana',\n",
    "    indices='bairro_group',\n",
    "    colunas='metrica',\n",
    "    media=\"Valor Mediano\"\n",
    ")\n",
    "\n",
    "# Filtrar areas para analise\n",
    "metricas_principais = ['price', 'minimo_noites', 'numero_de_reviews', 'disponibilidade_365']\n",
    "dados_filtrados = dados_longos[dados_longos['metrica'].isin(metricas_principais)]\n",
    "\n",
    "# Plotar heatmap  com areas especificas\n",
    "plot_heatmap(\n",
    "    nome_arquivo='heatmap_medianas_selected_EDA_P1.png', \n",
    "    pasta = 'EDA_P1',\n",
    "    titulo='Principais Métricas de Aluguel por Região',\n",
    "    dataBase=dados_filtrados,\n",
    "    valores='mediana',\n",
    "    indices='bairro_group',\n",
    "    colunas='metrica',\n",
    "    media=\"Valor Central\"\n",
    ")"
   ]
  },
  {
   "cell_type": "code",
   "execution_count": null,
   "id": "5a1b8f17-4b10-45d2-95fa-893d23d0918c",
   "metadata": {},
   "outputs": [],
   "source": [
    "plot_scatter(\n",
    "    nome_arquivo='scatterplot_reviews_price_EDA_P1.png',\n",
    "    pasta = 'EDA_P1',\n",
    "    titulo='Preço vs. Número de Reviews por Região',\n",
    "    dataBase=dataBase,\n",
    "    x_col='numero_de_reviews',\n",
    "    y_col='price',\n",
    "    hue_col='bairro_group',\n",
    "    legenda_x='Número de Reviews',\n",
    "    legenda_y='Preço (USD)',\n",
    "    figsize=(12, 8)\n",
    ")"
   ]
  },
  {
   "cell_type": "markdown",
   "id": "395fec47-e25e-4091-9123-2401e7b3a9dd",
   "metadata": {
    "jp-MarkdownHeadingCollapsed": true
   },
   "source": [
    "## insights"
   ]
  },
  {
   "cell_type": "markdown",
   "id": "f913b293-1379-4024-b3cd-3bfb1f9eacde",
   "metadata": {},
   "source": [
    "\n",
    "\n",
    "Então:\n",
    "O que conseguimos observar com clareza é a influencia que os valores extremos estão tendo em nossa analise inicial \\\n",
    "dificultando um entendimento geral, e a necessidade da limpeza e tratamento dos dados antes de proseguir.\n",
    "\n",
    "Temos 5 Regiões: 'Manhattan' 'Brooklyn' 'Queens' 'Staten Island' 'Bronx' \\\n",
    "Numero de bairros de cada região: \\\n",
    "( 1 ) Queens neighborhoods: 51 \\\n",
    "( 2 ) Bronx neighborhoods: 48 \\\n",
    "( 3 ) Brooklyn neighborhoods: 47 \\\n",
    "( 4 ) Staten Island neighborhoods: 43 \\\n",
    "( 5 ) Manhattan neighborhoods: 32 \\\n",
    "Numero total de bairros: 221 \n",
    "\n",
    "\n",
    "Também nós traz passos que devemos tomar a frente, principalmente em review. price, noites_minimas\n",
    "- *ultima_review* \\\n",
    "Está com um tipo ineficiente para tempo, um Object \\\n",
    "Ou seja, provavelmente em formato string, sendo ideal a troca para operações mais eficientes. como para o tipo datetime.\n",
    "- *reviews_por_mes* \\\n",
    "Apresenta o tipo float, sendo que não pode existir meio review, deverá ser convertido em uma Integer.\n",
    "- *host_name* \\\n",
    "  Valores \"NaN\". Que devem ser tratados para preservar a integridade da base de dados.\n",
    "- *nome* \\\n",
    "  Valores \"NaN\". ue devem ser tratados para preservar a integridade da base de dados.\n",
    "- *price* \\\n",
    "  Valor Minimo zero, o que indica um erro, ou estrategia para ganhar novos reviews. \\\n",
    "  Valor Maximo muito além do nosso desvio padrão.pk\n",
    "- *minimo_noites* \\\n",
    "  Valor Maximo muito além do nosso desvio padrão.\n",
    "- *preçoVsNumero_de_reviews* \\\n",
    "   Preçõs muito altos e sem reviews, podem demonstrar erros humanos de novos listings\n",
    "### hipótese review\n",
    "A falta de dados do tipo /*ultima review*/ e /*review_por_mes*/ deve ser devido a \n",
    "novos usuarios, caso /*numero_de_reviews*/ seja nulo \\\n",
    "Temos um novo User, Afinal:\n",
    "- *ultima review* / *review_por_mes* / *numero_de_reviews* \\\n",
    "\n",
    "Aparentemente são correlacionados e fortemente dependendes um dos outros, também trazem uma possibilidade de uma analise temporal \\"
   ]
  },
  {
   "cell_type": "markdown",
   "id": "f434daf4-6b5a-4e62-bb6c-01a09378db08",
   "metadata": {},
   "source": [
    "## 2 - Limpeza e Tratamento"
   ]
  },
  {
   "cell_type": "markdown",
   "id": "3fdb073d-6c8c-4dc7-a553-a1c316e257ac",
   "metadata": {},
   "source": [
    "### Limpeza de dados\n",
    "\n",
    "Passos\n",
    "\n",
    "- A. - Remoção de duplicadas\n",
    "- B. - Conversão de dados\n",
    "- C. - Imputação (Tratamento de valores ausentes)\n",
    "- D. - Adaptação para analise melhor\n",
    "- E. - Outliers"
   ]
  },
  {
   "cell_type": "code",
   "execution_count": null,
   "id": "d029d436-f371-4128-acb9-bc6ff0db8569",
   "metadata": {},
   "outputs": [],
   "source": [
    "import numpy as np"
   ]
  },
  {
   "cell_type": "markdown",
   "id": "ec3f2215-1179-42d2-8f62-8e06a2937117",
   "metadata": {
    "jp-MarkdownHeadingCollapsed": true
   },
   "source": [
    "### A. Remoção de duplicadas"
   ]
  },
  {
   "cell_type": "code",
   "execution_count": null,
   "id": "26612b94-6a29-4085-a850-67e9781ab246",
   "metadata": {},
   "outputs": [],
   "source": [
    "nbr_id_duplicados = dataBase['id'].duplicated().sum()\n",
    "nbr_host_id_duplicados = dataBase['host_id'].duplicated().sum()\n",
    "print(f'Id duplicados = {nbr_id_duplicados}')\n",
    "print(f'Host Id duplicados = {nbr_host_id_duplicados}')"
   ]
  },
  {
   "cell_type": "code",
   "execution_count": null,
   "id": "70fa706f-1389-4361-9217-226ba087a5b4",
   "metadata": {
    "jupyter": {
     "source_hidden": true
    },
    "scrolled": true
   },
   "outputs": [],
   "source": [
    "# dados duplicados não contando a primeira ocorrencia\n",
    "id_duplicados = dataBase[dataBase.duplicated(subset=['id'])]\n",
    "host_id_duplicados = dataBase[dataBase.duplicated(subset=['host_id'])]\n",
    "ids_unicos_duplicados = id_duplicados['id'].nunique()\n",
    "host_ids_unicos_duplicados = host_id_duplicados['host_id'].nunique()\n",
    "total = len(dataBase)\n",
    "\n",
    "print(f\"Total: {total}\")\n",
    "if (ids_unicos_duplicados):\n",
    "    print(f\"> Error - (Ids) Numero de hosts unicos que estão duplicados com mais de um listing: {ids_unicos_duplicados}\")\n",
    "else:\n",
    "    print(\"> OK - (Ids) Nenhuma copia unica encontrada.\")\n",
    "\n",
    "if (host_ids_unicos_duplicados):\n",
    "    print(f\"> Error - (host id) Numero de ids unicos com mais de um listing: {host_ids_unicos_duplicados}\")\n",
    "else:\n",
    "    print(\"> Ok - (host id) Nenhuma copia unica encontrada.\")\n",
    "\n",
    "if (ids_unicos_duplicados > 0 and total > 0):\n",
    "  percentual_ids_duplicados = (ids_unicos_duplicados / total) * 100\n",
    "  print(f\"Percentual de IDs duplicados: {percentual_ids_duplicados:.2f}%\")\n",
    "\n",
    "if (host_ids_unicos_duplicados > 0 and total > 0):\n",
    "  percentual_host_ids_duplicados = (host_ids_unicos_duplicados / total) * 100\n",
    "  print(f\"Percentual de Host IDs duplicados: {percentual_host_ids_duplicados:.2f}%\")"
   ]
  },
  {
   "cell_type": "markdown",
   "id": "e8f84bad-e37e-4d58-aef3-49e02846ca06",
   "metadata": {
    "jp-MarkdownHeadingCollapsed": true
   },
   "source": [
    "#### a.1 - Grafico de relação percentual entre hosts duplicados e total"
   ]
  },
  {
   "cell_type": "code",
   "execution_count": null,
   "id": "9787a236-b1c4-4d1a-b5fd-57ca812a9c2d",
   "metadata": {},
   "outputs": [],
   "source": [
    "numero_duplicatas= len(host_id_duplicados)\n",
    "contagens = [total, numero_duplicatas, host_ids_unicos_duplicados, ids_unicos_duplicados]\n",
    "categorias = ['Total', 'Host IDs Duplicados', 'Host IDs unicos duplicados', 'IDs Duplicados']\n",
    "\n",
    "percentuais = [100.0, (numero_duplicatas / total) * 100, (host_ids_unicos_duplicados / total) * 100, (ids_unicos_duplicados / total) * 100]\n",
    "\n",
    "(fig, ax) = plt.subplots(figsize=(12, 8))\n",
    "barras = ax.bar(categorias, contagens, color=['blue', 'red', 'red'])\n",
    "\n",
    "ax.set_title('Porcentagem de IDs e Host IDs Duplicados vs Total', pad=20)\n",
    "ax.set_ylabel('Quantidade')\n",
    "ax.set_xlabel('Categorias')\n",
    "\n",
    "altura_max_y = max(contagens);\n",
    "altura_graf = altura_max_y * 1.20;\n",
    "\n",
    "for barra, percentual in zip(barras, percentuais):\n",
    "    altura = barra.get_height()\n",
    "    ax.text(\n",
    "        barra.get_x() + barra.get_width() / 2,\n",
    "        altura + 0.02 * altura_max_y,\n",
    "        f'{int(altura)}\\n({percentual:.1f}%)',\n",
    "        ha='center',\n",
    "        va='bottom'\n",
    "    )\n",
    "    \n",
    "ax.set_ylim(0, altura_graf)\n",
    "plt.show()\n",
    "save_figure(\"relacao_percentual_duplicatas_EDA_P1\", 'EDA_P1', fig)"
   ]
  },
  {
   "cell_type": "markdown",
   "id": "e05e0733-3d5d-4f27-9708-cdabb4775744",
   "metadata": {},
   "source": [
    "Muitas informações duplicadas, contudo, Host_ids duplicados podem indicar multiplos anuncios. então uma relação direta em\n",
    "numero de Ids duplicados, listing_count e host_name, devemos checar o numero de ids, com os ids listings. para ver se há erros de fato."
   ]
  },
  {
   "cell_type": "markdown",
   "id": "3ff7f8e1-14e8-4015-840e-fc32921c1fc4",
   "metadata": {
    "jp-MarkdownHeadingCollapsed": true
   },
   "source": [
    "#### a.2 - Função de verificação Host Name + Listing Count + Numero de anuncios"
   ]
  },
  {
   "cell_type": "code",
   "execution_count": null,
   "id": "0add7604-36fa-41b7-8554-cf40aee26b1b",
   "metadata": {},
   "outputs": [],
   "source": [
    "def check_id_count_name(dataBase):\n",
    "    numero_real = dataBase.groupby('host_id').size().reset_index(name='numero_real')\n",
    "    numero_esperado = dataBase.groupby('host_id')['calculado_host_listings_count'].max().reset_index(name='expected_count')\n",
    "    tabela_real_esperado = pd.merge(numero_real, numero_esperado, on='host_id', how='inner')\n",
    "    \n",
    "    inconsistencais = tabela_real_esperado[tabela_real_esperado['numero_real'] != tabela_real_esperado['expected_count']]\n",
    "    \n",
    "    if not inconsistencais.empty:\n",
    "        print(\"\\nError - Número de listagens diferente das cópias de mesmo host_id:\")\n",
    "        print(inconsistencais)\n",
    "    else:\n",
    "        print(\"\\nOK - Nenhum numero real \")\n",
    "\n",
    "    consistencia_nomes = dataBase.groupby('host_id')['host_name'].nunique().reset_index(name='unique_names')\n",
    "    error_nome = consistencia_nomes[consistencia_nomes['unique_names'] > 1]\n",
    "    \n",
    "    if not error_nome.empty:\n",
    "        print(\"\\nError - Listings Com Erros\")\n",
    "        print(error_nome)\n",
    "    else:\n",
    "        print(\"\\nOK - Nenhum nome diferente com mesmo id.\")"
   ]
  },
  {
   "cell_type": "code",
   "execution_count": null,
   "id": "a47486dc-6ebf-4dd8-83b8-5bc1806f1a58",
   "metadata": {},
   "outputs": [],
   "source": [
    "check_id_count_name(dataBase)"
   ]
  },
  {
   "cell_type": "markdown",
   "id": "3bd81eba-02e6-43b2-aa97-bdee012fbaee",
   "metadata": {},
   "source": [
    "#### a.3 - Fix Error host(2787)"
   ]
  },
  {
   "cell_type": "code",
   "execution_count": null,
   "id": "28ddb67b-f054-4c79-af4a-d3b3a423c03f",
   "metadata": {},
   "outputs": [],
   "source": [
    "dataBase.loc[dataBase['host_id'] == 2787, 'calculado_host_listings_count'] = 5\n",
    "check_id_count_name(dataBase)"
   ]
  },
  {
   "cell_type": "markdown",
   "id": "11649cdf-a216-4a4c-892e-645a475753df",
   "metadata": {
    "jp-MarkdownHeadingCollapsed": true
   },
   "source": [
    "### B. Conversão de dados"
   ]
  },
  {
   "cell_type": "markdown",
   "id": "d4f8ebbd-1ba4-4316-947d-f8f7548c948c",
   "metadata": {
    "jp-MarkdownHeadingCollapsed": true
   },
   "source": [
    "#### b.0 Data Review"
   ]
  },
  {
   "cell_type": "code",
   "execution_count": null,
   "id": "46580b95-a8b7-4b98-b8fd-9cb164a4775a",
   "metadata": {
    "scrolled": true
   },
   "outputs": [],
   "source": [
    "print(\"Tipos de dados: \\n\")\n",
    "print(dataBase.dtypes)"
   ]
  },
  {
   "cell_type": "code",
   "execution_count": null,
   "id": "928272ba-d9e3-4194-8a24-2de2782b8f79",
   "metadata": {
    "scrolled": true
   },
   "outputs": [],
   "source": [
    "print(\"Valores Nulos\")\n",
    "print((dataBase.isnull()).sum())"
   ]
  },
  {
   "cell_type": "markdown",
   "id": "ce8d5e33-5fb6-4e3d-9ffe-c3d78c5550df",
   "metadata": {},
   "source": [
    "#### b.1 - Check influencia de dados "
   ]
  },
  {
   "cell_type": "code",
   "execution_count": null,
   "id": "01ee8085-b555-4259-8c80-918660e3f87d",
   "metadata": {},
   "outputs": [],
   "source": [
    "# porcentagem de valores não presentes na base de dados (review).\n",
    "total = ultima_review = reviews_por_mes = 38842\n",
    "numero_de_reviews = 48894\n",
    "missing_percentual = (100 - (reviews_por_mes / numero_de_reviews) * 100)\n",
    "print(f\"Porcentagem de valores Nulos representa {missing_percentual:.1f}% de {numero_de_reviews}\")"
   ]
  },
  {
   "cell_type": "markdown",
   "id": "8573e72f-a048-450f-9ae5-ee9df4f30a9b",
   "metadata": {},
   "source": [
    "#### b.2 -> Função integridade BaseDeDados - Reviews \n",
    "Regras:\n",
    "- 1. Se numero de reviews é zero\n",
    "       - reviews_por_mes deve ser 0\n",
    "       - ultima_review deve ser Nulo\n",
    "- 2. reviews_por_mes nunca pode ser maior que o numero de reviews\n",
    "- 3. Ambos campos devem ser maior ou igual a zero 0"
   ]
  },
  {
   "cell_type": "code",
   "execution_count": null,
   "id": "22c84bee-c338-4982-8394-2000dfc1f8ba",
   "metadata": {},
   "outputs": [],
   "source": [
    "def check_review_reviewMensal_nbrReview():\n",
    "    # 1\n",
    "    erro_review_zero = ((dataBase['numero_de_reviews'] == 0) & ((dataBase['reviews_por_mes'] != 0) | dataBase['ultima_review'].notna()))\n",
    "    # 2\n",
    "    erro_review_mensal = dataBase['reviews_por_mes'] > dataBase['numero_de_reviews']\n",
    "    # 3\n",
    "    erro_valores_negativos = (dataBase['numero_de_reviews'] < 0) | (dataBase['reviews_por_mes'] < 0)\n",
    "    \n",
    "    mascara_de_regras = (erro_review_zero | erro_review_mensal | erro_valores_negativos)\n",
    "    casos_errados = dataBase[mascara_de_regras]\n",
    "    \n",
    "    if not casos_errados.empty:\n",
    "        print('Error - Dados invalidos em reviews!')\n",
    "        print(f\"Casos inválidos encontrados: {len(casos_errados)}\")\n",
    "        print(casos_errados)\n",
    "    else:\n",
    "        print('Ok - Dados Validos!')"
   ]
  },
  {
   "cell_type": "markdown",
   "id": "f1a0f823-7d3c-465f-9990-0e4186cd9a38",
   "metadata": {},
   "source": [
    "#### b.3 Conversão\n",
    "- 1 - (Ultima_review)  Object -> dateTime(Y-%m-%d)\n",
    "- 2 - (Reviews_por_mes) Float64 -> int64"
   ]
  },
  {
   "cell_type": "code",
   "execution_count": null,
   "id": "226b6e9a-a90c-4523-9bab-e6e0a80fef91",
   "metadata": {},
   "outputs": [],
   "source": [
    "# converter a string object para date_time no formato especifico %Y-%m-%d, se não for possivel irá virar NaT(Not a time, \"aka\" Null)\n",
    "dataBase['ultima_review'] = pd.to_datetime(\n",
    "    dataBase['ultima_review'],\n",
    "    errors='coerce' \n",
    ")\n",
    "# vamos preencher valores Nulos por zero, converter float para int, sempre arredondando para cima\n",
    "dataBase['reviews_por_mes'] = (\n",
    "    dataBase['reviews_por_mes']\n",
    "    .fillna(0) \n",
    "    .apply(np.ceil)\n",
    "    .astype(int)\n",
    ")"
   ]
  },
  {
   "cell_type": "code",
   "execution_count": null,
   "id": "9417ba60-0f42-402e-904c-fa570dbbeccf",
   "metadata": {},
   "outputs": [],
   "source": [
    "dataBase['ultima_review'].describe()"
   ]
  },
  {
   "cell_type": "markdown",
   "id": "80f6d45c-7b79-45dc-bd74-00dcaceb5d7d",
   "metadata": {},
   "source": [
    "##### Verificação Conversão (b.3) e intregridade de nossa base de dados"
   ]
  },
  {
   "cell_type": "code",
   "execution_count": null,
   "id": "356b5e5f-e164-490b-922a-7460b3d978f8",
   "metadata": {},
   "outputs": [],
   "source": [
    "check_review_reviewMensal_nbrReview()"
   ]
  },
  {
   "cell_type": "markdown",
   "id": "a1010d07-2ddc-4de6-91b8-32fbc3086c6e",
   "metadata": {
    "jp-MarkdownHeadingCollapsed": true
   },
   "source": [
    "### C.  Imputação "
   ]
  },
  {
   "cell_type": "markdown",
   "id": "f8dfe833-156c-4adb-8cc8-d0e046667b5c",
   "metadata": {
    "jp-MarkdownHeadingCollapsed": true
   },
   "source": [
    "#### C.0 Review"
   ]
  },
  {
   "cell_type": "code",
   "execution_count": null,
   "id": "2e8b52fd-13fb-4a3b-8f93-bd8d625642fe",
   "metadata": {
    "scrolled": true
   },
   "outputs": [],
   "source": [
    "dataBase.describe()"
   ]
  },
  {
   "cell_type": "code",
   "execution_count": null,
   "id": "02db1f6e-b6b6-4419-8cd4-1ef1f80c154b",
   "metadata": {},
   "outputs": [],
   "source": [
    "print(\"Valores Nulos:\")\n",
    "print((dataBase.isnull()).sum())"
   ]
  },
  {
   "cell_type": "markdown",
   "id": "c198c475-8181-4cb2-bd45-68ce1ffb11ff",
   "metadata": {},
   "source": [
    "#### C.1 Preeenchimento Dados Faltantes -> host_name, nome"
   ]
  },
  {
   "cell_type": "code",
   "execution_count": null,
   "id": "6bdd5e17-1310-4ddb-8df3-f815c7ce88ca",
   "metadata": {},
   "outputs": [],
   "source": [
    "nbr_sem_host = dataBase['host_name'].isnull().sum()\n",
    "nbr_sem_nome = dataBase['nome'].isnull().sum()\n",
    "total = len(dataBase)\n",
    "\n",
    "percentual_sem_host_name = (nbr_sem_host / total) * 100\n",
    "percentual_sem_nome = (nbr_sem_nome / total) * 100\n",
    "\n",
    "print(f\"Percentual de Host e Host_names nulos em comparação ao total:\")\n",
    "print(f\"- host_name: {percentual_sem_host_name:.2f}% ({nbr_sem_host})\")\n",
    "print(f\"- nome: {percentual_sem_nome:.2f}% ({nbr_sem_nome})\")"
   ]
  },
  {
   "cell_type": "code",
   "execution_count": null,
   "id": "93b219d9-2729-4048-8a0a-1bc7deeb6f9f",
   "metadata": {},
   "outputs": [],
   "source": [
    "# Preencher dados faltantes\n",
    "dataBase['host_name'] = dataBase['host_name'].fillna('unknown_hostName')\n",
    "dataBase['nome'] = dataBase['nome'].fillna('unknown_name')"
   ]
  },
  {
   "cell_type": "code",
   "execution_count": null,
   "id": "dd09cd95-e9b8-4bc3-89ca-e99afdcb2b28",
   "metadata": {},
   "outputs": [],
   "source": [
    "# confirmar a conversão\n",
    "print(\"Numero de Host e Host_names unknown:  \")\n",
    "print(f'unknown_hostName = {len(dataBase.loc[dataBase[\"host_name\"] == \"unknown_hostName\"])}')\n",
    "print(f'unknown_host = {len(dataBase.loc[dataBase[\"nome\"] == \"unknown_name\"])}')"
   ]
  },
  {
   "cell_type": "markdown",
   "id": "51806944-9999-4d1a-a7a1-121f31786080",
   "metadata": {},
   "source": [
    "#### C.2 Preço"
   ]
  },
  {
   "cell_type": "code",
   "execution_count": null,
   "id": "00876d9e-30ae-48a1-bccd-f934fd65c9bc",
   "metadata": {},
   "outputs": [],
   "source": [
    "# 0 para mediana da região (reduzir influencia outliers)\n",
    "mediana_regiao = dataBase[dataBase['price'] > 0].groupby('bairro_group')['price'].median()\n",
    "print(mediana_regiao)\n",
    "\n",
    "for regiao, preco_medio in mediana_regiao.items():\n",
    "    mascara_verdade = (dataBase['bairro_group'] == regiao) & (dataBase['price'] <= 0)\n",
    "    dataBase.loc[mascara_verdade, 'price'] = preco_medio"
   ]
  },
  {
   "cell_type": "markdown",
   "id": "bfd67500-8d25-4a32-9e8c-ba2c0d90993e",
   "metadata": {},
   "source": [
    "### D. - Adaptação da Base de dados"
   ]
  },
  {
   "cell_type": "markdown",
   "id": "be95f4c4-b376-4151-9653-98c9e11cf0d7",
   "metadata": {
    "jp-MarkdownHeadingCollapsed": true
   },
   "source": [
    "#### E.1 - Novos Usurarios"
   ]
  },
  {
   "cell_type": "code",
   "execution_count": null,
   "id": "7a060c36-eddf-4a00-9a09-a4387baddb02",
   "metadata": {},
   "outputs": [],
   "source": [
    "def check_regras_new_user():\n",
    "    return (\n",
    "    (dataBase['calculado_host_listings_count'] == 1)\n",
    "    & (dataBase['numero_de_reviews'] == 0)\n",
    "    & (dataBase['reviews_por_mes'] == 0)\n",
    "    & dataBase['ultima_review'].isna()\n",
    ")"
   ]
  },
  {
   "cell_type": "code",
   "execution_count": null,
   "id": "e6913e51-fadf-439e-9605-ca9eb6f16eb0",
   "metadata": {},
   "outputs": [],
   "source": [
    "# Create boolean column for new listings (host with only 1 listing AND no reviews)\n",
    "# regras new user -> max listing = 1, sem reviews.\n",
    "dataBase['new'] = check_regras_new_user()\n",
    "print(\"dados novos users:\")\n",
    "print(dataBase['new'].describe())\n",
    "dataBase.head(1)"
   ]
  },
  {
   "cell_type": "markdown",
   "id": "ba6fa69d-b47a-426d-8e98-ab6cfc1b31bc",
   "metadata": {},
   "source": [
    "Com isso podemos ter certeza que nossa nova coluna está implementada de forma correta, e não temos valores que fujam dessa\n",
    "logica."
   ]
  },
  {
   "cell_type": "markdown",
   "id": "a414ada4-ab0f-49b6-adc2-c645ed1e6802",
   "metadata": {},
   "source": [
    "#### E.2 - Listings Indisponiveis"
   ]
  },
  {
   "cell_type": "code",
   "execution_count": null,
   "id": "02e693ec-f5fe-4f25-a6f3-fd511ddd2a73",
   "metadata": {},
   "outputs": [],
   "source": [
    "# check violações\n",
    "violacoes_noites_minimas = dataBase[dataBase['minimo_noites'] > dataBase['disponibilidade_365']]\n",
    "\n",
    "print(f'Violacoes_noites_minimas: {len(violacoes_noites_minimas)}')"
   ]
  },
  {
   "cell_type": "markdown",
   "id": "c1941562-cdba-45f7-8eed-44cb4d198ffc",
   "metadata": {},
   "source": [
    "##### a.2 Plot da relação valores nulos"
   ]
  },
  {
   "cell_type": "code",
   "execution_count": null,
   "id": "51dcaf93-7b19-4aac-a0bc-b0cf10be84be",
   "metadata": {},
   "outputs": [],
   "source": [
    "total = len(dataBase)\n",
    "noites_nulas = len(dataBase[dataBase['minimo_noites'] > dataBase['disponibilidade_365']]) \n",
    "disponivel = len(dataBase[dataBase['minimo_noites'] < dataBase['disponibilidade_365']])\n",
    "# Preparação dos dados para o gráfico\n",
    "categorias = ['Total','Disponiveis', 'Indisponiveis']\n",
    "contagens = [total, disponivel, noites_nulas]\n",
    "percentuais = [\n",
    "    100.0, \n",
    "    (disponivel / total) * 100,\n",
    "    (noites_nulas / total) * 100, \n",
    "]\n",
    "\n",
    "altura_max = max(contagens) * 1.25\n",
    "\n",
    "(fig, ax) = plt.subplots(figsize=(12, 8))\n",
    "barras = ax.bar(categorias, contagens, color=['blue','green','red'])\n",
    "\n",
    "ax.set_title('Proporção da Disponibilidade', pad=20)\n",
    "ax.set_ylabel('Disponibilidade')\n",
    "ax.set_xlabel('Categorias')\n",
    "ax.set_ylim(0, altura_max)\n",
    "\n",
    "\n",
    "for barra, percentual in zip(barras, percentuais):\n",
    "    altura = barra.get_height()\n",
    "    ax.text(\n",
    "        barra.get_x() + barra.get_width()/2,\n",
    "        altura + 0.002 * altura_max ,\n",
    "        f'{altura:,}\\n({percentual:.2f}%)',\n",
    "        ha='center',\n",
    "        va='bottom',\n",
    "        fontsize=12\n",
    "    )\n",
    "\n",
    "plt.show()\n",
    "save_figure('percentual_NoitesNulas_PriceNulo_EDA_P1', 'EDA_P1', fig)"
   ]
  },
  {
   "cell_type": "code",
   "execution_count": null,
   "id": "8016a6fc-d759-4723-9b7b-e424d02b58a1",
   "metadata": {},
   "outputs": [],
   "source": [
    "# passo para manter a consistencia da logica, mas que pode levar a bias (indis == low min noites) testes...\n",
    "#dataBase.loc[dataBase['indisponivel'], 'minimo_noites'] = dataBase['disponibilidade_365']\n",
    "dataBase['indisponivel'] = (dataBase['minimo_noites'] > dataBase['disponibilidade_365'])"
   ]
  },
  {
   "cell_type": "code",
   "execution_count": null,
   "id": "1bf65f93-047c-404a-ae72-8adecd7adb54",
   "metadata": {},
   "outputs": [],
   "source": [
    "dataBase['indisponivel'].describe()"
   ]
  },
  {
   "cell_type": "code",
   "execution_count": null,
   "id": "68f315f1-d19f-4501-8641-bdf206dacd57",
   "metadata": {},
   "outputs": [],
   "source": [
    "dataBase['minimo_noites'] = dataBase['minimo_noites'].clip(upper=365)\n",
    "dataBase['disponibilidade_365'] = dataBase['disponibilidade_365'].clip(upper=365)"
   ]
  },
  {
   "cell_type": "code",
   "execution_count": null,
   "id": "40b08eeb-78e9-4b1e-830b-0f968d99b635",
   "metadata": {},
   "outputs": [],
   "source": [
    "dataBase.info()"
   ]
  },
  {
   "cell_type": "markdown",
   "id": "740a4b17-f994-4519-a75a-e95407b6e7c9",
   "metadata": {},
   "source": [
    "### Insights - data_cleaning"
   ]
  },
  {
   "cell_type": "code",
   "execution_count": null,
   "id": "cc6741ea-18c9-4d9e-8cd3-3214508f2ac5",
   "metadata": {},
   "outputs": [],
   "source": [
    "dataBase.to_csv('base_depois_da_adaptação_EDA_P1.csv')"
   ]
  },
  {
   "cell_type": "code",
   "execution_count": null,
   "id": "76b27755-6826-4b7a-a516-6aac3e5c5a92",
   "metadata": {},
   "outputs": [],
   "source": [
    "dataBase.head(1)"
   ]
  },
  {
   "cell_type": "markdown",
   "id": "7b7bd142-afc8-48a6-971b-0565b41c8f51",
   "metadata": {},
   "source": [
    "Com a limpeza, ficou claro o grupamento das caracteristicas principais entre as variaveis.\n",
    "\n",
    "Temos alguns grupos para analisar e definir como contribuem para o preço final.\n",
    "- Dados de indentificação -> Id, Host_ID e Host_Name \\\n",
    "  Que não aparentam/devem afetar o preço \n",
    "- Dados de Localização -> bairro_group,  bairro, Latitute, Longintute \\\n",
    "  Com foco no bairro_group e bairro, para diminuir a complexidade do projeto nesse primeiro momento. \\\n",
    "  Caso o tempo permita Latitute, Longitude (maior complexidade)\n",
    "- Caracteristicas da Propriedade -> Nome e Room Type \\\n",
    "  Importante para definição do nosso modelo, sendo Room Type prioridade e Nome em decorrencia, caso o tempo permita. (maior complexidade)\n",
    "- Dados de Disponibilidade -> Minimo_noites e Disponibilidade_365 \\\n",
    "  Importantes para avaliar \n",
    "- Dados de locação -> Numero_de_reviews, reviews_por_mes e ultimo review. \\\n",
    "  Informações sobre a requisição do listing\n",
    "  \n",
    "  Sendo interresante explorar:\n",
    "  Preço vs \"cada um dos 5 grupos de caracteristicas principais\".\n",
    "  "
   ]
  },
  {
   "cell_type": "markdown",
   "id": "2756c855-b39b-4d17-919b-346d4b2e33d0",
   "metadata": {
    "jp-MarkdownHeadingCollapsed": true
   },
   "source": [
    "## 3 - EDA -Analise exploratoria de dados "
   ]
  },
  {
   "cell_type": "markdown",
   "id": "bc81387a-acf2-4949-bcda-610ff1f2be1a",
   "metadata": {},
   "source": [
    "### A.0 - Optional Outliers Clean!  "
   ]
  },
  {
   "cell_type": "code",
   "execution_count": null,
   "id": "ae20c132-0536-4164-baf9-858c8b0389b3",
   "metadata": {},
   "outputs": [],
   "source": [
    "def clip_values(x):\n",
    "    if x < lower_quantile:\n",
    "        return lower_quantile\n",
    "    elif x > upper_quantile:\n",
    "        return upper_quantile\n",
    "    return x\n",
    "\n",
    "def clean_outliers_base(dataBase, metodo, column):\n",
    "    df = dataBase.copy()\n",
    "    \n",
    "    if metodo == 1:\n",
    "        Q1 = df[column].quantile(0.25)\n",
    "        Q3 = df[column].quantile(0.75)\n",
    "        IQR = Q3 - Q1\n",
    "        lower_bound = Q1 - 1.5 * IQR\n",
    "        upper_bound = Q3 + 1.5 * IQR\n",
    "        print(f'Lower Bound: {lower_bound}, Upper Bound: {upper_bound}')\n",
    "        \n",
    "        df_filtered = df[(df[column] >= lower_bound) & (df[column] <= upper_bound)]\n",
    "        print('IQR!')\n",
    "        return df_filtered\n",
    "\n",
    "    elif metodo == 2:\n",
    "        lower_quantile = df[column].quantile(0.05)\n",
    "        upper_quantile = df[column].quantile(0.95)\n",
    "\n",
    "        df[column] = df[column].apply(clip_values)\n",
    "\n",
    "        \n",
    "        print(\"Winsor!!\")\n",
    "        return df\n",
    "        \n",
    "    else:\n",
    "        print(\"1 - IQR. / 2 -Winsor.\")\n",
    "        return df\n"
   ]
  },
  {
   "cell_type": "code",
   "execution_count": null,
   "id": "cca879ef-7d79-4bd2-98f6-23d8cce15db2",
   "metadata": {
    "scrolled": true
   },
   "outputs": [],
   "source": [
    "Clean_Outliers = True\n",
    "# 1 = IQR, 2 = Winsor\n",
    "metodos = 1\n",
    "\n",
    "if (Clean_Outliers == True):\n",
    "    clean_dataBase = clean_outliers_base(dataBase, metodos, 'price')\n",
    "clean_dataBase.describe()\n",
    "clean_dataBase.to_csv('cleaned_EDA_P2.csv')"
   ]
  },
  {
   "cell_type": "markdown",
   "id": "5b8b0573-0a34-4194-94ad-ce70ea99c06a",
   "metadata": {},
   "source": [
    "### A.1 - Perguntas "
   ]
  },
  {
   "cell_type": "code",
   "execution_count": null,
   "id": "625e1aeb-ed2a-4f1d-a1e1-da830a5e3ccd",
   "metadata": {},
   "outputs": [],
   "source": []
  }
 ],
 "metadata": {
  "kernelspec": {
   "display_name": "Python 3 (ipykernel)",
   "language": "python",
   "name": "python3"
  },
  "language_info": {
   "codemirror_mode": {
    "name": "ipython",
    "version": 3
   },
   "file_extension": ".py",
   "mimetype": "text/x-python",
   "name": "python",
   "nbconvert_exporter": "python",
   "pygments_lexer": "ipython3",
   "version": "3.8.10"
  }
 },
 "nbformat": 4,
 "nbformat_minor": 5
}
