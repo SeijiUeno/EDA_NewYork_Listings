{
 "cells": [
  {
   "cell_type": "markdown",
   "id": "8a982f1b-55ba-4936-b8cc-61ef2bb638ad",
   "metadata": {},
   "source": [
    "# Desafio Indicium!"
   ]
  },
  {
   "cell_type": "markdown",
   "id": "3813a96a-3258-4bc8-81b1-19e075b364e2",
   "metadata": {},
   "source": [
    "## 1 - Analise Exploratoria dos dados, entendendo meus dados. "
   ]
  },
  {
   "cell_type": "markdown",
   "id": "5dd06ea3-166d-4ec3-90d3-be683b6aa40c",
   "metadata": {},
   "source": [
    "### Entender a Estrutura dos dados, o que temos?\n",
    " \n",
    "id – Atua como uma chave exclusiva para cada anúncio \n",
    "nos dados do aplicativo \\\n",
    "nome - Representa o nome do anúncio \\\n",
    "host_id - Representa o id do usuário que hospedou o anúncio \\\n",
    "host_name – Contém o nome do usuário que hospedou o anúncio \\\n",
    "bairro_group - Contém o nome do bairro onde o anúncio está localizado \\\n",
    "bairro - Contém o nome da área onde o anúncio está localizado \\\n",
    "latitude - Contém a latitude do local \\\n",
    "longitude - Contém a longitude do local \\\n",
    "room_type – Contém o tipo de espaço de cada anúncio \\\n",
    "price - Contém o preço por noite em dólares listado pelo anfitrião \\\n",
    "minimo_noites - Contém o número mínimo de noites que o usuário deve reservar \\\n",
    "numero_de_reviews - Contém o número de comentários dados a cada listagem \\\n",
    "ultima_review - Contém a data da última revisão dada à listagem \\\n",
    "reviews_por_mes - Contém o número de avaliações fornecidas por mês \\\n",
    "calculado_host_listings_count - Contém a quantidade de listagem por host \\\n",
    "disponibilidade_365 - Contém o número de dias em que o anúncio está disponível para reserva \\\n",
    "\n",
    "Agora vamos checar as informações, usando a biblioteca de python \"pandas\" para manipulção de dados: \\\n",
    "a. Conseguir acessar as informações da nossa Base de dados. \\\n",
    "b. Checar o arquivo e comparar com o que já temos para validar as informações. \\\n",
    "c. Verificar formas de facilitar os proximos passos \\\n",
    "d. Entender totalmente com o que estamos trabalhando"
   ]
  },
  {
   "cell_type": "code",
   "execution_count": 1,
   "id": "7cd61190-d6a4-4a3e-ae2f-ddc9fea8824e",
   "metadata": {
    "scrolled": true
   },
   "outputs": [
    {
     "name": "stdout",
     "output_type": "stream",
     "text": [
      "Requirement already satisfied: pandas in /home/segfault/iridium/data/lib/python3.10/site-packages (2.2.3)\n",
      "Requirement already satisfied: tzdata>=2022.7 in /home/segfault/iridium/data/lib/python3.10/site-packages (from pandas) (2025.1)\n",
      "Requirement already satisfied: pytz>=2020.1 in /home/segfault/iridium/data/lib/python3.10/site-packages (from pandas) (2025.1)\n",
      "Requirement already satisfied: numpy>=1.22.4 in /home/segfault/iridium/data/lib/python3.10/site-packages (from pandas) (2.2.2)\n",
      "Requirement already satisfied: python-dateutil>=2.8.2 in /home/segfault/iridium/data/lib/python3.10/site-packages (from pandas) (2.9.0.post0)\n",
      "Requirement already satisfied: six>=1.5 in /home/segfault/iridium/data/lib/python3.10/site-packages (from python-dateutil>=2.8.2->pandas) (1.17.0)\n"
     ]
    }
   ],
   "source": [
    "!pip install pandas"
   ]
  },
  {
   "cell_type": "code",
   "execution_count": 2,
   "id": "cd7e736a-617a-4b34-b1d3-1f1606a53834",
   "metadata": {},
   "outputs": [
    {
     "name": "stdout",
     "output_type": "stream",
     "text": [
      "<class 'pandas.core.frame.DataFrame'>\n",
      "RangeIndex: 48894 entries, 0 to 48893\n",
      "Data columns (total 16 columns):\n",
      " #   Column                         Non-Null Count  Dtype  \n",
      "---  ------                         --------------  -----  \n",
      " 0   id                             48894 non-null  int64  \n",
      " 1   nome                           48878 non-null  object \n",
      " 2   host_id                        48894 non-null  int64  \n",
      " 3   host_name                      48873 non-null  object \n",
      " 4   bairro_group                   48894 non-null  object \n",
      " 5   bairro                         48894 non-null  object \n",
      " 6   latitude                       48894 non-null  float64\n",
      " 7   longitude                      48894 non-null  float64\n",
      " 8   room_type                      48894 non-null  object \n",
      " 9   price                          48894 non-null  int64  \n",
      " 10  minimo_noites                  48894 non-null  int64  \n",
      " 11  numero_de_reviews              48894 non-null  int64  \n",
      " 12  ultima_review                  38842 non-null  object \n",
      " 13  reviews_por_mes                38842 non-null  float64\n",
      " 14  calculado_host_listings_count  48894 non-null  int64  \n",
      " 15  disponibilidade_365            48894 non-null  int64  \n",
      "dtypes: float64(3), int64(7), object(6)\n",
      "memory usage: 6.0+ MB\n",
      "None\n"
     ]
    }
   ],
   "source": [
    "import pandas as panda\n",
    "\n",
    "source = \"https://drive.google.com/uc?id=1e1nrIDl-_9YwQNZwbCpWlqylotFlTpya\"\n",
    "dataBase = panda.read_csv(source)\n",
    "\n",
    "# Verificar o acesso ao arquivo, e monstrar suas informações\n",
    "print(dataBase.info())"
   ]
  },
  {
   "cell_type": "code",
   "execution_count": 3,
   "id": "9c3f1cf2-486f-4eaa-8e0b-566a4de31761",
   "metadata": {},
   "outputs": [
    {
     "data": {
      "text/html": [
       "<div>\n",
       "<style scoped>\n",
       "    .dataframe tbody tr th:only-of-type {\n",
       "        vertical-align: middle;\n",
       "    }\n",
       "\n",
       "    .dataframe tbody tr th {\n",
       "        vertical-align: top;\n",
       "    }\n",
       "\n",
       "    .dataframe thead th {\n",
       "        text-align: right;\n",
       "    }\n",
       "</style>\n",
       "<table border=\"1\" class=\"dataframe\">\n",
       "  <thead>\n",
       "    <tr style=\"text-align: right;\">\n",
       "      <th></th>\n",
       "      <th>id</th>\n",
       "      <th>nome</th>\n",
       "      <th>host_id</th>\n",
       "      <th>host_name</th>\n",
       "      <th>bairro_group</th>\n",
       "      <th>bairro</th>\n",
       "      <th>latitude</th>\n",
       "      <th>longitude</th>\n",
       "      <th>room_type</th>\n",
       "      <th>price</th>\n",
       "      <th>minimo_noites</th>\n",
       "      <th>numero_de_reviews</th>\n",
       "      <th>ultima_review</th>\n",
       "      <th>reviews_por_mes</th>\n",
       "      <th>calculado_host_listings_count</th>\n",
       "      <th>disponibilidade_365</th>\n",
       "    </tr>\n",
       "  </thead>\n",
       "  <tbody>\n",
       "    <tr>\n",
       "      <th>0</th>\n",
       "      <td>2595</td>\n",
       "      <td>Skylit Midtown Castle</td>\n",
       "      <td>2845</td>\n",
       "      <td>Jennifer</td>\n",
       "      <td>Manhattan</td>\n",
       "      <td>Midtown</td>\n",
       "      <td>40.75362</td>\n",
       "      <td>-73.98377</td>\n",
       "      <td>Entire home/apt</td>\n",
       "      <td>225</td>\n",
       "      <td>1</td>\n",
       "      <td>45</td>\n",
       "      <td>2019-05-21</td>\n",
       "      <td>0.38</td>\n",
       "      <td>2</td>\n",
       "      <td>355</td>\n",
       "    </tr>\n",
       "  </tbody>\n",
       "</table>\n",
       "</div>"
      ],
      "text/plain": [
       "     id                   nome  host_id host_name bairro_group   bairro  \\\n",
       "0  2595  Skylit Midtown Castle     2845  Jennifer    Manhattan  Midtown   \n",
       "\n",
       "   latitude  longitude        room_type  price  minimo_noites  \\\n",
       "0  40.75362  -73.98377  Entire home/apt    225              1   \n",
       "\n",
       "   numero_de_reviews ultima_review  reviews_por_mes  \\\n",
       "0                 45    2019-05-21             0.38   \n",
       "\n",
       "   calculado_host_listings_count  disponibilidade_365  \n",
       "0                              2                  355  "
      ]
     },
     "execution_count": 3,
     "metadata": {},
     "output_type": "execute_result"
    }
   ],
   "source": [
    "# Estrutura dos nossos dados\n",
    "dataBase.head(1)"
   ]
  },
  {
   "cell_type": "code",
   "execution_count": 4,
   "id": "143b87f7-e66d-462b-8579-adcbcd482052",
   "metadata": {},
   "outputs": [
    {
     "name": "stdout",
     "output_type": "stream",
     "text": [
      "Tipos de quartos possiveis:\n",
      "['Entire home/apt' 'Private room' 'Shared room']\n"
     ]
    }
   ],
   "source": [
    "print(\"Tipos de quartos possiveis:\")\n",
    "print(dataBase['room_type'].unique())"
   ]
  },
  {
   "cell_type": "code",
   "execution_count": 5,
   "id": "37909439-e6f0-43f5-b3de-196f8efd0627",
   "metadata": {},
   "outputs": [
    {
     "name": "stdout",
     "output_type": "stream",
     "text": [
      "Regiões da nossa base de dados (bairro_group):\n",
      "['Manhattan' 'Brooklyn' 'Queens' 'Staten Island' 'Bronx']\n"
     ]
    }
   ],
   "source": [
    "print(\"Regiões da nossa base de dados (bairro_group):\")\n",
    "print((dataBase['bairro_group'].unique()))"
   ]
  },
  {
   "cell_type": "code",
   "execution_count": 6,
   "id": "9cdbb948-c3b9-40a8-97cb-56c705771dd7",
   "metadata": {
    "scrolled": true
   },
   "outputs": [
    {
     "name": "stdout",
     "output_type": "stream",
     "text": [
      "Numero de bairros de cada região:\n",
      "( 1 ) Manhattan neighborhoods: 32\n",
      "( 2 ) Brooklyn neighborhoods: 47\n",
      "( 3 ) Queens neighborhoods: 51\n",
      "( 4 ) Staten Island neighborhoods: 43\n",
      "( 5 ) Bronx neighborhoods: 48\n",
      "Numero total de bairros: 221\n"
     ]
    }
   ],
   "source": [
    "print(\"Numero de bairros de cada região:\")\n",
    "\n",
    "bairros = 0\n",
    "i = 1;\n",
    "for group in dataBase['bairro_group'].unique():\n",
    "    bairro_group_unique = dataBase[dataBase['bairro_group'] == group]\n",
    "    bairro_unique = bairro_group_unique['bairro'].unique()\n",
    "    numero_de_bairros = len(bairro_unique)\n",
    "    bairros += numero_de_bairros\n",
    "    print(f\"( {i} ) {group} neighborhoods: {numero_de_bairros}\")\n",
    "    i = i + 1\n",
    "print(f\"Numero total de bairros: {bairros}\")"
   ]
  },
  {
   "cell_type": "code",
   "execution_count": 7,
   "id": "1cd11716-b8c2-4e9c-9c3c-93f72593b009",
   "metadata": {},
   "outputs": [
    {
     "name": "stdout",
     "output_type": "stream",
     "text": [
      "Valores Nulos em Nossa Base de dados:\n",
      "id                                   0\n",
      "nome                                16\n",
      "host_id                              0\n",
      "host_name                           21\n",
      "bairro_group                         0\n",
      "bairro                               0\n",
      "latitude                             0\n",
      "longitude                            0\n",
      "room_type                            0\n",
      "price                                0\n",
      "minimo_noites                        0\n",
      "numero_de_reviews                    0\n",
      "ultima_review                    10052\n",
      "reviews_por_mes                  10052\n",
      "calculado_host_listings_count        0\n",
      "disponibilidade_365                  0\n",
      "dtype: int64\n"
     ]
    }
   ],
   "source": [
    "print(\"Valores Nulos em Nossa Base de dados:\")\n",
    "print((dataBase.isnull()).sum())"
   ]
  },
  {
   "cell_type": "code",
   "execution_count": 8,
   "id": "0c27f146-99ad-4a4d-8056-76331d6ca6b1",
   "metadata": {},
   "outputs": [
    {
     "data": {
      "text/html": [
       "<div>\n",
       "<style scoped>\n",
       "    .dataframe tbody tr th:only-of-type {\n",
       "        vertical-align: middle;\n",
       "    }\n",
       "\n",
       "    .dataframe tbody tr th {\n",
       "        vertical-align: top;\n",
       "    }\n",
       "\n",
       "    .dataframe thead th {\n",
       "        text-align: right;\n",
       "    }\n",
       "</style>\n",
       "<table border=\"1\" class=\"dataframe\">\n",
       "  <thead>\n",
       "    <tr style=\"text-align: right;\">\n",
       "      <th></th>\n",
       "      <th>id</th>\n",
       "      <th>host_id</th>\n",
       "      <th>latitude</th>\n",
       "      <th>longitude</th>\n",
       "      <th>price</th>\n",
       "      <th>minimo_noites</th>\n",
       "      <th>numero_de_reviews</th>\n",
       "      <th>reviews_por_mes</th>\n",
       "      <th>calculado_host_listings_count</th>\n",
       "      <th>disponibilidade_365</th>\n",
       "    </tr>\n",
       "  </thead>\n",
       "  <tbody>\n",
       "    <tr>\n",
       "      <th>count</th>\n",
       "      <td>4.889400e+04</td>\n",
       "      <td>4.889400e+04</td>\n",
       "      <td>48894.000000</td>\n",
       "      <td>48894.000000</td>\n",
       "      <td>48894.000000</td>\n",
       "      <td>48894.000000</td>\n",
       "      <td>48894.000000</td>\n",
       "      <td>38842.000000</td>\n",
       "      <td>48894.000000</td>\n",
       "      <td>48894.000000</td>\n",
       "    </tr>\n",
       "    <tr>\n",
       "      <th>mean</th>\n",
       "      <td>1.901753e+07</td>\n",
       "      <td>6.762139e+07</td>\n",
       "      <td>40.728951</td>\n",
       "      <td>-73.952169</td>\n",
       "      <td>152.720763</td>\n",
       "      <td>7.030085</td>\n",
       "      <td>23.274758</td>\n",
       "      <td>1.373251</td>\n",
       "      <td>7.144005</td>\n",
       "      <td>112.776169</td>\n",
       "    </tr>\n",
       "    <tr>\n",
       "      <th>std</th>\n",
       "      <td>1.098288e+07</td>\n",
       "      <td>7.861118e+07</td>\n",
       "      <td>0.054529</td>\n",
       "      <td>0.046157</td>\n",
       "      <td>240.156625</td>\n",
       "      <td>20.510741</td>\n",
       "      <td>44.550991</td>\n",
       "      <td>1.680453</td>\n",
       "      <td>32.952855</td>\n",
       "      <td>131.618692</td>\n",
       "    </tr>\n",
       "    <tr>\n",
       "      <th>min</th>\n",
       "      <td>2.595000e+03</td>\n",
       "      <td>2.438000e+03</td>\n",
       "      <td>40.499790</td>\n",
       "      <td>-74.244420</td>\n",
       "      <td>0.000000</td>\n",
       "      <td>1.000000</td>\n",
       "      <td>0.000000</td>\n",
       "      <td>0.010000</td>\n",
       "      <td>1.000000</td>\n",
       "      <td>0.000000</td>\n",
       "    </tr>\n",
       "    <tr>\n",
       "      <th>25%</th>\n",
       "      <td>9.472371e+06</td>\n",
       "      <td>7.822737e+06</td>\n",
       "      <td>40.690100</td>\n",
       "      <td>-73.983070</td>\n",
       "      <td>69.000000</td>\n",
       "      <td>1.000000</td>\n",
       "      <td>1.000000</td>\n",
       "      <td>0.190000</td>\n",
       "      <td>1.000000</td>\n",
       "      <td>0.000000</td>\n",
       "    </tr>\n",
       "    <tr>\n",
       "      <th>50%</th>\n",
       "      <td>1.967743e+07</td>\n",
       "      <td>3.079553e+07</td>\n",
       "      <td>40.723075</td>\n",
       "      <td>-73.955680</td>\n",
       "      <td>106.000000</td>\n",
       "      <td>3.000000</td>\n",
       "      <td>5.000000</td>\n",
       "      <td>0.720000</td>\n",
       "      <td>1.000000</td>\n",
       "      <td>45.000000</td>\n",
       "    </tr>\n",
       "    <tr>\n",
       "      <th>75%</th>\n",
       "      <td>2.915225e+07</td>\n",
       "      <td>1.074344e+08</td>\n",
       "      <td>40.763117</td>\n",
       "      <td>-73.936273</td>\n",
       "      <td>175.000000</td>\n",
       "      <td>5.000000</td>\n",
       "      <td>24.000000</td>\n",
       "      <td>2.020000</td>\n",
       "      <td>2.000000</td>\n",
       "      <td>227.000000</td>\n",
       "    </tr>\n",
       "    <tr>\n",
       "      <th>max</th>\n",
       "      <td>3.648724e+07</td>\n",
       "      <td>2.743213e+08</td>\n",
       "      <td>40.913060</td>\n",
       "      <td>-73.712990</td>\n",
       "      <td>10000.000000</td>\n",
       "      <td>1250.000000</td>\n",
       "      <td>629.000000</td>\n",
       "      <td>58.500000</td>\n",
       "      <td>327.000000</td>\n",
       "      <td>365.000000</td>\n",
       "    </tr>\n",
       "  </tbody>\n",
       "</table>\n",
       "</div>"
      ],
      "text/plain": [
       "                 id       host_id      latitude     longitude         price  \\\n",
       "count  4.889400e+04  4.889400e+04  48894.000000  48894.000000  48894.000000   \n",
       "mean   1.901753e+07  6.762139e+07     40.728951    -73.952169    152.720763   \n",
       "std    1.098288e+07  7.861118e+07      0.054529      0.046157    240.156625   \n",
       "min    2.595000e+03  2.438000e+03     40.499790    -74.244420      0.000000   \n",
       "25%    9.472371e+06  7.822737e+06     40.690100    -73.983070     69.000000   \n",
       "50%    1.967743e+07  3.079553e+07     40.723075    -73.955680    106.000000   \n",
       "75%    2.915225e+07  1.074344e+08     40.763117    -73.936273    175.000000   \n",
       "max    3.648724e+07  2.743213e+08     40.913060    -73.712990  10000.000000   \n",
       "\n",
       "       minimo_noites  numero_de_reviews  reviews_por_mes  \\\n",
       "count   48894.000000       48894.000000     38842.000000   \n",
       "mean        7.030085          23.274758         1.373251   \n",
       "std        20.510741          44.550991         1.680453   \n",
       "min         1.000000           0.000000         0.010000   \n",
       "25%         1.000000           1.000000         0.190000   \n",
       "50%         3.000000           5.000000         0.720000   \n",
       "75%         5.000000          24.000000         2.020000   \n",
       "max      1250.000000         629.000000        58.500000   \n",
       "\n",
       "       calculado_host_listings_count  disponibilidade_365  \n",
       "count                   48894.000000         48894.000000  \n",
       "mean                        7.144005           112.776169  \n",
       "std                        32.952855           131.618692  \n",
       "min                         1.000000             0.000000  \n",
       "25%                         1.000000             0.000000  \n",
       "50%                         1.000000            45.000000  \n",
       "75%                         2.000000           227.000000  \n",
       "max                       327.000000           365.000000  "
      ]
     },
     "execution_count": 8,
     "metadata": {},
     "output_type": "execute_result"
    }
   ],
   "source": [
    "dataBase.describe()"
   ]
  },
  {
   "cell_type": "markdown",
   "id": "df28a3f4-922f-4d83-939b-55b232c23cd4",
   "metadata": {},
   "source": [
    "### EDA - P1\n",
    "Agora que temos a visão geral da nossa base de dados, além de informações relevantes como tipos errados, e dados incompletos, vamos proseguir para uma analise estatistica inicial, antes do tratamento e limpeza, para comparação futura."
   ]
  },
  {
   "cell_type": "code",
   "execution_count": 9,
   "id": "94e645c6-553e-4e46-ad79-1390e5244630",
   "metadata": {
    "scrolled": true
   },
   "outputs": [
    {
     "name": "stdout",
     "output_type": "stream",
     "text": [
      "Requirement already satisfied: matplotlib in /home/segfault/iridium/data/lib/python3.10/site-packages (3.10.0)\n",
      "Requirement already satisfied: python-dateutil>=2.7 in /home/segfault/iridium/data/lib/python3.10/site-packages (from matplotlib) (2.9.0.post0)\n",
      "Requirement already satisfied: pyparsing>=2.3.1 in /home/segfault/iridium/data/lib/python3.10/site-packages (from matplotlib) (3.2.1)\n",
      "Requirement already satisfied: fonttools>=4.22.0 in /home/segfault/iridium/data/lib/python3.10/site-packages (from matplotlib) (4.55.8)\n",
      "Requirement already satisfied: cycler>=0.10 in /home/segfault/iridium/data/lib/python3.10/site-packages (from matplotlib) (0.12.1)\n",
      "Requirement already satisfied: contourpy>=1.0.1 in /home/segfault/iridium/data/lib/python3.10/site-packages (from matplotlib) (1.3.1)\n",
      "Requirement already satisfied: kiwisolver>=1.3.1 in /home/segfault/iridium/data/lib/python3.10/site-packages (from matplotlib) (1.4.8)\n",
      "Requirement already satisfied: numpy>=1.23 in /home/segfault/iridium/data/lib/python3.10/site-packages (from matplotlib) (2.2.2)\n",
      "Requirement already satisfied: packaging>=20.0 in /home/segfault/iridium/data/lib/python3.10/site-packages (from matplotlib) (24.2)\n",
      "Requirement already satisfied: pillow>=8 in /home/segfault/iridium/data/lib/python3.10/site-packages (from matplotlib) (11.1.0)\n",
      "Requirement already satisfied: six>=1.5 in /home/segfault/iridium/data/lib/python3.10/site-packages (from python-dateutil>=2.7->matplotlib) (1.17.0)\n",
      "Requirement already satisfied: seaborn in /home/segfault/iridium/data/lib/python3.10/site-packages (0.13.2)\n",
      "Requirement already satisfied: numpy!=1.24.0,>=1.20 in /home/segfault/iridium/data/lib/python3.10/site-packages (from seaborn) (2.2.2)\n",
      "Requirement already satisfied: pandas>=1.2 in /home/segfault/iridium/data/lib/python3.10/site-packages (from seaborn) (2.2.3)\n",
      "Requirement already satisfied: matplotlib!=3.6.1,>=3.4 in /home/segfault/iridium/data/lib/python3.10/site-packages (from seaborn) (3.10.0)\n",
      "Requirement already satisfied: fonttools>=4.22.0 in /home/segfault/iridium/data/lib/python3.10/site-packages (from matplotlib!=3.6.1,>=3.4->seaborn) (4.55.8)\n",
      "Requirement already satisfied: cycler>=0.10 in /home/segfault/iridium/data/lib/python3.10/site-packages (from matplotlib!=3.6.1,>=3.4->seaborn) (0.12.1)\n",
      "Requirement already satisfied: kiwisolver>=1.3.1 in /home/segfault/iridium/data/lib/python3.10/site-packages (from matplotlib!=3.6.1,>=3.4->seaborn) (1.4.8)\n",
      "Requirement already satisfied: pyparsing>=2.3.1 in /home/segfault/iridium/data/lib/python3.10/site-packages (from matplotlib!=3.6.1,>=3.4->seaborn) (3.2.1)\n",
      "Requirement already satisfied: pillow>=8 in /home/segfault/iridium/data/lib/python3.10/site-packages (from matplotlib!=3.6.1,>=3.4->seaborn) (11.1.0)\n",
      "Requirement already satisfied: python-dateutil>=2.7 in /home/segfault/iridium/data/lib/python3.10/site-packages (from matplotlib!=3.6.1,>=3.4->seaborn) (2.9.0.post0)\n",
      "Requirement already satisfied: packaging>=20.0 in /home/segfault/iridium/data/lib/python3.10/site-packages (from matplotlib!=3.6.1,>=3.4->seaborn) (24.2)\n",
      "Requirement already satisfied: contourpy>=1.0.1 in /home/segfault/iridium/data/lib/python3.10/site-packages (from matplotlib!=3.6.1,>=3.4->seaborn) (1.3.1)\n",
      "Requirement already satisfied: tzdata>=2022.7 in /home/segfault/iridium/data/lib/python3.10/site-packages (from pandas>=1.2->seaborn) (2025.1)\n",
      "Requirement already satisfied: pytz>=2020.1 in /home/segfault/iridium/data/lib/python3.10/site-packages (from pandas>=1.2->seaborn) (2025.1)\n",
      "Requirement already satisfied: six>=1.5 in /home/segfault/iridium/data/lib/python3.10/site-packages (from python-dateutil>=2.7->matplotlib!=3.6.1,>=3.4->seaborn) (1.17.0)\n"
     ]
    }
   ],
   "source": [
    "!pip install matplotlib\n",
    "!pip install seaborn"
   ]
  },
  {
   "cell_type": "markdown",
   "id": "2201a430-791c-4747-8d05-416ba0fd1434",
   "metadata": {},
   "source": [
    "### histograma dos preços"
   ]
  },
  {
   "cell_type": "code",
   "execution_count": 10,
   "id": "a21cc671-e24a-49f7-a5f6-66ccc0e94df3",
   "metadata": {},
   "outputs": [
    {
     "data": {
      "image/png": "[encoded data removed]",
      "text/plain": [
       "<Figure size 1000x600 with 1 Axes>"
      ]
     },
     "metadata": {},
     "output_type": "display_data"
    }
   ],
   "source": [
    "import matplotlib.pyplot as plt\n",
    "import seaborn as sns\n",
    "\n",
    "max_price = 11000\n",
    "\n",
    "(histograma_price_EDA_P1, foco_price) = plt.subplots(figsize=(10, 6))\n",
    "sns.histplot(dataBase['price'], bins=50, kde=True, color='green', ax=foco_price)\n",
    "sns.rugplot(dataBase['price'], color='red', height=0.01, ax=foco_price)\n",
    "foco_price.set_title('Distribuição de preços + kde', fontsize=15, style='italic', pad = 20)\n",
    "foco_price.set_xlabel('Preço', fontsize=10)\n",
    "foco_price.set_ylabel('Frequencia', fontsize=10)\n",
    "foco_price.set_xlim(0, max_price)\n",
    "\n",
    "histograma_price_EDA_P1.savefig(\"histograma_price_EDA_P1.png\")\n",
    "plt.show()"
   ]
  },
  {
   "cell_type": "markdown",
   "id": "937cb7f0-803b-431e-b0d0-9b06c36f8ed6",
   "metadata": {},
   "source": [
    "### histograma minimo_noites"
   ]
  },
  {
   "cell_type": "code",
   "execution_count": 11,
   "id": "39efff29-3bde-481c-8b7e-45d2267f8b9a",
   "metadata": {},
   "outputs": [
    {
     "data": {
      "image/png": "[encoded data removed]",
      "text/plain": [
       "<Figure size 1000x600 with 1 Axes>"
      ]
     },
     "metadata": {},
     "output_type": "display_data"
    }
   ],
   "source": [
    "max_x_value = 1250\n",
    "\n",
    "(histograma_night_EDA_P1, foco_night) = plt.subplots(figsize=(10, 6))\n",
    "sns.histplot(dataBase['minimo_noites'], bins=50, kde={True}, color='green', ax=foco_night)\n",
    "sns.rugplot(dataBase['minimo_noites'], color='red', height=0.01, ax=foco_night)\n",
    "foco_night.set_title('Distribuição noites minimas + kde', fontsize=15, style='italic', pad=20)\n",
    "foco_night.set_xlabel('minimo_noites', fontsize=10)\n",
    "foco_night.set_ylabel('Frequencia', fontsize=10)\n",
    "foco_night.set_xlim(0, max_x_value)\n",
    "\n",
    "histograma_night_EDA_P1.savefig(\"histograma_night_EDA_P1.png\")\n",
    "plt.show()"
   ]
  },
  {
   "cell_type": "markdown",
   "id": "395fec47-e25e-4091-9123-2401e7b3a9dd",
   "metadata": {},
   "source": [
    "## insights\n",
    "\n",
    "Temos 5 Regiões: 'Manhattan' 'Brooklyn' 'Queens' 'Staten Island' 'Bronx' \\\n",
    "Numero de bairros de cada região: \\\n",
    "( 1 ) Queens neighborhoods: 51 \\\n",
    "( 2 ) Bronx neighborhoods: 48 \\\n",
    "( 3 ) Brooklyn neighborhoods: 47 \\\n",
    "( 4 ) Staten Island neighborhoods: 43 \\\n",
    "( 5 ) Manhattan neighborhoods: 32 \\\n",
    "Numero total de bairros: 221 \n",
    "\n",
    "Então:\n",
    "- *ultima_review* \\\n",
    "Está com um tipo ineficiente para tempo, um Object \\\n",
    "Ou seja, provavelmente em formato string, sendo ideal a troca para operações mais eficientes. como para o tipo datetime.\n",
    "- *reviews_por_mes* \\\n",
    "Apresenta o tipo float, sendo que não pode existir meio review, deverá ser convertido em uma Integer.\n",
    "- *host_name* \\\n",
    "  Valores \"NaN\".\n",
    "- *nome* \\\n",
    "  Valores \"NaN\".\n",
    "- *price* \\\n",
    "  Valor Minimo zero, o que indica um erro, ou estrategia para ganhar novos reviews. \\\n",
    "  Valor Maximo muito além do nosso desvio padrão.\n",
    "- *minimo_noites* \\\n",
    "  Valor Maximo muito além do nosso desvio padrão.\n",
    "### hipótese review\n",
    "A falta de dados do tipo /*ultima review*/ e /*review_por_mes*/ deve ser devido a \n",
    "novos usuarios, caso /*numero_de_reviews*/ seja nulo \\\n",
    "Temos um novo User, Afinal:\n",
    "- *ultima review* / *review_por_mes* / *numero_de_reviews* \\\n",
    "\n",
    "São correlacionados e fortemente dependendes um dos outros, também trazem uma possibilidade de uma analise temporal"
   ]
  },
  {
   "cell_type": "markdown",
   "id": "f434daf4-6b5a-4e62-bb6c-01a09378db08",
   "metadata": {},
   "source": [
    "# 2 - Limpeza e tratamento  "
   ]
  },
  {
   "cell_type": "code",
   "execution_count": null,
   "id": "01ee8085-b555-4259-8c80-918660e3f87d",
   "metadata": {},
   "outputs": [],
   "source": [
    "\n",
    "# porcentagem de valores não presentes na base de dados (review).\n",
    "total = ultima_review = reviews_por_mes = 38842\n",
    "numero_de_reviews = 48894\n",
    "missing_percentual = (100 - (reviews_por_mes / numero_de_reviews) * 100)\n",
    "print(f\"Porcentagem de valores Nulos representa {missing_percentual:.1f}% de {numero_de_reviews}\")"
   ]
  },
  {
   "cell_type": "code",
   "execution_count": null,
   "id": "e6913e51-fadf-439e-9605-ca9eb6f16eb0",
   "metadata": {},
   "outputs": [],
   "source": [
    "# verificar se ambos ultima_review e reviews_por_mes são nulos, se sim, então é um novo usuario\n",
    "null_last = dataBase['ultima_review'].isnull()\n",
    "null_monthly = dataBase['reviews_por_mes'].isnull()\n",
    "\n",
    "dataBase['novo'] = (null_last & null_monthly)\n",
    "\n",
    "# Converter ultima_review para o valor correto\n",
    "dataBase['ultima_review'] = panda.to_datetime(dataBase['ultima_review'])\n",
    "\n",
    "# Subustituir valores nulos de host e host_name\n",
    "dataBase['host_name'].fillna('unknown_hostName', inplace=True)\n",
    "dataBase['nome'].fillna('unknown_host', inplace=True)"
   ]
  },
  {
   "cell_type": "code",
   "execution_count": null,
   "id": "007986d3-ef53-4b2a-ae34-930476668090",
   "metadata": {},
   "outputs": [],
   "source": [
    "# Verificar se há algum 'novo' com 'calculated_host_listings_count' maior que 1 ou menor ou igual a 0\n",
    "new_listings = dataBase[dataBase['novo'] == True]\n",
    "new_listings_error = any(new_listings['numero_de_reviews'] != 0)\n",
    "\n",
    "if new_listings_error :\n",
    "    print(\"yes\")\n",
    "else :\n",
    "    print(\"no\")\n"
   ]
  },
  {
   "cell_type": "code",
   "execution_count": null,
   "id": "df0a86ca-3ef6-4d4c-9664-2ac4a7505541",
   "metadata": {},
   "outputs": [],
   "source": [
    "# confirmar que tudo deu certo\n",
    "print(dataBase.info())\n",
    "dataBase.head(1)"
   ]
  },
  {
   "cell_type": "code",
   "execution_count": null,
   "id": "db65be8d-1664-466a-95a3-620a0569a0f6",
   "metadata": {},
   "outputs": [],
   "source": [
    "# Verificar se temos casos em que ultima review ou reviews_por_mes existe e o outro não para confirmar a teoria dos new listing\n",
    "null_last = dataBase['ultima_review'].isnull()\n",
    "null_monthly = dataBase['reviews_por_mes'].isnull()\n",
    "\n",
    "first_possibility = (null_last & ~null_monthly).any()\n",
    "secound_possibility = (~null_last & null_monthly).any()\n",
    "\n",
    "if first_possibility or secound_possibility :\n",
    "    print(\"yes\")\n",
    "else :\n",
    "    print(\"no\")"
   ]
  },
  {
   "cell_type": "markdown",
   "id": "ba6fa69d-b47a-426d-8e98-ab6cfc1b31bc",
   "metadata": {},
   "source": [
    "Com isso podemos ter certeza que nossa nova coluna está implementada de forma correta, e não temos valores que fujam dessa\n",
    "logica em que todos os listing sem novos reviews e sem historico, são novos listings.\n",
    "Continuaremos a entender melhor nossos dados com foco em bairro_group, bairro, room_type."
   ]
  },
  {
   "cell_type": "code",
   "execution_count": null,
   "id": "bff1b7c7-ed21-4198-baf7-7657deb372a1",
   "metadata": {},
   "outputs": [],
   "source": []
  }
 ],
 "metadata": {
  "kernelspec": {
   "display_name": "Python 3 (ipykernel)",
   "language": "python",
   "name": "python3"
  },
  "language_info": {
   "codemirror_mode": {
    "name": "ipython",
    "version": 3
   },
   "file_extension": ".py",
   "mimetype": "text/x-python",
   "name": "python",
   "nbconvert_exporter": "python",
   "pygments_lexer": "ipython3",
   "version": "3.10.12"
  }
 },
 "nbformat": 4,
 "nbformat_minor": 5
}
