{
 "cells": [
  {
   "cell_type": "markdown",
   "id": "8a982f1b-55ba-4936-b8cc-61ef2bb638ad",
   "metadata": {},
   "source": [
    "# Desafio Indicium!"
   ]
  },
  {
   "cell_type": "markdown",
   "id": "3813a96a-3258-4bc8-81b1-19e075b364e2",
   "metadata": {},
   "source": [
    "## 1 - Analise Exploratoria dos dados, entendendo meus dados. "
   ]
  },
  {
   "cell_type": "markdown",
   "id": "5dd06ea3-166d-4ec3-90d3-be683b6aa40c",
   "metadata": {},
   "source": [
    "### Entender a Estrutura dos dados, o que temos?\n",
    " \n",
    "id – Atua como uma chave exclusiva para cada anúncio \n",
    "nos dados do aplicativo \\\n",
    "nome - Representa o nome do anúncio \\\n",
    "host_id - Representa o id do usuário que hospedou o anúncio \\\n",
    "host_name – Contém o nome do usuário que hospedou o anúncio \\\n",
    "bairro_group - Contém o nome do bairro onde o anúncio está localizado \\\n",
    "bairro - Contém o nome da área onde o anúncio está localizado \\\n",
    "latitude - Contém a latitude do local \\\n",
    "longitude - Contém a longitude do local \\\n",
    "room_type – Contém o tipo de espaço de cada anúncio \\\n",
    "price - Contém o preço por noite em dólares listado pelo anfitrião \\\n",
    "minimo_noites - Contém o número mínimo de noites que o usuário deve reservar \\\n",
    "numero_de_reviews - Contém o número de comentários dados a cada listagem \\\n",
    "ultima_review - Contém a data da última revisão dada à listagem \\\n",
    "reviews_por_mes - Contém o número de avaliações fornecidas por mês \\\n",
    "calculado_host_listings_count - Contém a quantidade de listagem por host \\\n",
    "disponibilidade_365 - Contém o número de dias em que o anúncio está disponível para reserva \\\n",
    "\n",
    "Agora vamos checar as informações, usando a biblioteca de python \"pandas\" para manipulção de dados: \\\n",
    "a. Conseguir acessar as informações da nossa Base de dados. \\\n",
    "b. Checar o arquivo e comparar com o que já temos para validar as informações. \\\n",
    "c. Verificar formas de facilitar os proximos passos \\\n",
    "d. Entender totalmente com o que estamos trabalhando"
   ]
  },
  {
   "cell_type": "code",
   "execution_count": null,
   "id": "7cd61190-d6a4-4a3e-ae2f-ddc9fea8824e",
   "metadata": {
    "scrolled": true
   },
   "outputs": [],
   "source": [
    "!pip install pandas"
   ]
  },
  {
   "cell_type": "code",
   "execution_count": null,
   "id": "cd7e736a-617a-4b34-b1d3-1f1606a53834",
   "metadata": {},
   "outputs": [],
   "source": [
    "import pandas as pd\n",
    "\n",
    "source = \"https://drive.google.com/uc?id=1e1nrIDl-_9YwQNZwbCpWlqylotFlTpya\"\n",
    "dataBase = pd.read_csv(source)\n",
    "\n",
    "# Verificar o acesso ao arquivo, e monstrar suas informações\n",
    "print(dataBase.info())"
   ]
  },
  {
   "cell_type": "code",
   "execution_count": null,
   "id": "9c3f1cf2-486f-4eaa-8e0b-566a4de31761",
   "metadata": {},
   "outputs": [],
   "source": [
    "# Estrutura dos nossos dados\n",
    "dataBase.head(1)"
   ]
  },
  {
   "cell_type": "code",
   "execution_count": null,
   "id": "143b87f7-e66d-462b-8579-adcbcd482052",
   "metadata": {},
   "outputs": [],
   "source": [
    "print(\"Tipos de quartos possiveis:\")\n",
    "print(dataBase['room_type'].unique())"
   ]
  },
  {
   "cell_type": "code",
   "execution_count": null,
   "id": "37909439-e6f0-43f5-b3de-196f8efd0627",
   "metadata": {},
   "outputs": [],
   "source": [
    "print(\"Regiões da nossa base de dados (bairro_group):\")\n",
    "print((dataBase['bairro_group'].unique()))"
   ]
  },
  {
   "cell_type": "code",
   "execution_count": null,
   "id": "9cdbb948-c3b9-40a8-97cb-56c705771dd7",
   "metadata": {
    "scrolled": true
   },
   "outputs": [],
   "source": [
    "print(\"Numero de bairros de cada região:\")\n",
    "\n",
    "bairros = 0\n",
    "i = 1;\n",
    "for group in dataBase['bairro_group'].unique():\n",
    "    bairro_group_unique = dataBase[dataBase['bairro_group'] == group]\n",
    "    bairro_unique = bairro_group_unique['bairro'].unique()\n",
    "    numero_de_bairros = len(bairro_unique)\n",
    "    bairros += numero_de_bairros\n",
    "    print(f\"( {i} ) {group} neighborhoods: {numero_de_bairros}\")\n",
    "    i = i + 1\n",
    "print(f\"Numero total de bairros: {bairros}\")"
   ]
  },
  {
   "cell_type": "code",
   "execution_count": null,
   "id": "1cd11716-b8c2-4e9c-9c3c-93f72593b009",
   "metadata": {},
   "outputs": [],
   "source": [
    "print(\"Valores Nulos em Nossa Base de dados:\")\n",
    "print((dataBase.isnull()).sum())"
   ]
  },
  {
   "cell_type": "code",
   "execution_count": null,
   "id": "0c27f146-99ad-4a4d-8056-76331d6ca6b1",
   "metadata": {},
   "outputs": [],
   "source": [
    "dataBase.describe()"
   ]
  },
  {
   "cell_type": "markdown",
   "id": "df28a3f4-922f-4d83-939b-55b232c23cd4",
   "metadata": {
    "jp-MarkdownHeadingCollapsed": true
   },
   "source": [
    "### EDA - P1\n",
    "Agora que temos a visão geral da nossa base de dados, além de informações relevantes como tipos de dados errados, dados incompletos, vamos proseguir para uma analise estatistica inicial, para comparação futura.\n",
    "\n",
    "Uma das melhores formas de entender outliers, informações incorretas, etc... em nossos dados, é utilizar graficos como Box-Plot (dataBases de pequena a media) ideal para valores extremos em variaveis unicas. \\\n",
    "E Histogramas para a frequencia de destribuição. será que nossos dados sequem a distribuição gaussiana?\n",
    "\n",
    "No final pensando no Residual plot, para detectar outliers que podem afetar nossa analise de regressão, apontando para residuais altos, e analisar\n",
    "desvios do modelo."
   ]
  },
  {
   "cell_type": "code",
   "execution_count": null,
   "id": "94e645c6-553e-4e46-ad79-1390e5244630",
   "metadata": {
    "scrolled": true
   },
   "outputs": [],
   "source": [
    "!pip install matplotlib\n",
    "!pip install seaborn"
   ]
  },
  {
   "cell_type": "markdown",
   "id": "2201a430-791c-4747-8d05-416ba0fd1434",
   "metadata": {},
   "source": [
    "### Funções"
   ]
  },
  {
   "cell_type": "code",
   "execution_count": null,
   "id": "702dfce1-a522-4aa2-8f7e-62b1394747fe",
   "metadata": {},
   "outputs": [],
   "source": [
    "import matplotlib.pyplot as plt\n",
    "import seaborn as sns\n",
    "import os"
   ]
  },
  {
   "cell_type": "code",
   "execution_count": null,
   "id": "9472f748-a02e-4cd5-a989-06e76574e759",
   "metadata": {},
   "outputs": [],
   "source": [
    "if not os.path.exists('EDA_P1'):\n",
    "    os.makedirs('EDA_P1')\n",
    "\n",
    "def save_figure(nome_arquivo, pasta, figure):\n",
    "    caminho_arquivo = os.path.join(pasta, nome_arquivo)\n",
    "    figure.savefig(caminho_arquivo)\n",
    "    plt.close()\n",
    "\n",
    "def plot_boxplot(nome_arquivo, titulo, coluna, dataBase, legenda_x):\n",
    "    fig, ax = plt.subplots(figsize=(12, 8))\n",
    "    sns.boxplot(x=dataBase[coluna], color='blue', ax=ax)\n",
    "    ax.set_title(titulo, fontsize=15, style='italic', pad=20)\n",
    "    ax.set_xlabel(legenda_x, fontsize=10)\n",
    "    plt.show()\n",
    "    save_figure(nome_arquivo, 'EDA_P1', fig)\n",
    "\n",
    "def plot_histogram(nome_arquivo, titulo, coluna, dataBase, legenda_x):\n",
    "    fig, ax = plt.subplots(figsize=(12, 8))\n",
    "    max_value_x = dataBase[coluna].max() * 1.1  # Calculate max from data\n",
    "    sns.histplot(dataBase[coluna], bins=75, kde=True, color='green', ax=ax)\n",
    "    sns.rugplot(dataBase[coluna], color='red', height=0.01, ax=ax)\n",
    "    ax.set_title(titulo, fontsize=15, style='italic', pad=20)\n",
    "    ax.set_xlabel(legenda_x, fontsize=10)\n",
    "    ax.set_ylabel('Frequencia', fontsize=10)\n",
    "    ax.set_xlim(0, max_value_x)\n",
    "    plt.show()\n",
    "    save_figure(nome_arquivo, 'EDA_P1', fig)\n",
    "    \n",
    "def plot_heatmap(nome_arquivo, titulo, dataBase, valores, indices, colunas, media=\"Mediana\"):\n",
    "    fig, ax = plt.subplots(figsize=(12, 8))\n",
    "    pivot_data = dataBase.pivot_table(values=valores, index=indices, columns=colunas)\n",
    "    sns.heatmap(pivot_data, annot=True, cmap='YlOrBr', fmt='.0f', \n",
    "                linewidths=.5, cbar_kws={'label': media}, ax=ax)\n",
    "    ax.set_title(titulo)\n",
    "    ax.set_xlabel(colunas)\n",
    "    ax.set_ylabel(indices)\n",
    "    plt.show()\n",
    "    save_figure(nome_arquivo, 'EDA_P1', fig)\n",
    "\n",
    "def plot_scatter(nome_arquivo, titulo, dataBase, x_col, y_col, hue_col,\n",
    "                 legenda_x='X', legenda_y='Y', figsize=(12, 8)):\n",
    "    fig, ax = plt.subplots(figsize=figsize)\n",
    "    sns.scatterplot(data=dataBase, x=x_col, y=y_col, hue=hue_col, ax=ax, palette='viridis')\n",
    "    ax.set_title(titulo, fontsize=15, style='italic', pad=20)\n",
    "    ax.set_xlabel(legenda_x, fontsize=12)\n",
    "    ax.set_ylabel(legenda_y, fontsize=12)\n",
    "    if hue_col:\n",
    "        ax.legend(title=hue_col, bbox_to_anchor=(1.05, 1), loc='upper left')\n",
    "    plt.show()\n",
    "    save_figure(nome_arquivo, 'EDA_P1', fig)\n"
   ]
  },
  {
   "cell_type": "markdown",
   "id": "51441036-7117-4829-8872-84be877e8bc5",
   "metadata": {
    "jp-MarkdownHeadingCollapsed": true
   },
   "source": [
    "### Graficos HISTOGRAMAS_EDA_P1"
   ]
  },
  {
   "cell_type": "code",
   "execution_count": null,
   "id": "83074d21-2e82-40e5-9721-24642ab8c5f0",
   "metadata": {},
   "outputs": [],
   "source": [
    "plot_histogram(\n",
    "    nome_arquivo='histograma_night_EDA_P1.png',\n",
    "    titulo='Distribuição de noites minimas + kde',\n",
    "    coluna='minimo_noites',\n",
    "    dataBase=dataBase, \n",
    "    legenda_x='Noites Minimas'\n",
    ")\n",
    "\n",
    "plot_histogram(\n",
    "    nome_arquivo='histograma_price_EDA_P1.png',\n",
    "    titulo='Distribuição de preços + kde',\n",
    "    coluna='price',\n",
    "    dataBase=dataBase, \n",
    "    legenda_x='Preço'\n",
    ")\n",
    "\n",
    "plot_histogram(\n",
    "    nome_arquivo='histograma_reviews_EDA_P1.png',\n",
    "    titulo='Distribuição de Reviews + kde',\n",
    "    coluna='numero_de_reviews',\n",
    "    dataBase=dataBase, \n",
    "    legenda_x='Reviews'\n",
    ")\n",
    "\n",
    "plot_histogram(\n",
    "    nome_arquivo='histograma_reviewPorMes_EDA_P1.png',\n",
    "    titulo='Distribuição Reviews por mes + kde',\n",
    "    coluna='reviews_por_mes',\n",
    "    dataBase=dataBase, \n",
    "    legenda_x='Reviews Por Mes'\n",
    ")\n",
    "\n",
    "plot_histogram(\n",
    "    nome_arquivo='histograma_listings_EDA_P1.png',\n",
    "    titulo='Distribuição Listagens + kde',\n",
    "    coluna='calculado_host_listings_count',\n",
    "    dataBase=dataBase, \n",
    "    legenda_x='Numero de Listagens'\n",
    ")\n",
    "\n",
    "plot_histogram(\n",
    "    nome_arquivo='histograma_disponibilidade_EDA_P1.png',\n",
    "    titulo='Distribuição Disponibilidade + kde',\n",
    "    coluna='disponibilidade_365',\n",
    "    dataBase=dataBase, \n",
    "    legenda_x='Disponibilidade'\n",
    ")"
   ]
  },
  {
   "cell_type": "markdown",
   "id": "a09bc01f-5ffb-4932-8df1-a62a71aaa27f",
   "metadata": {},
   "source": [
    "### Graficos De vela  EDA_P1"
   ]
  },
  {
   "cell_type": "code",
   "execution_count": null,
   "id": "9b0a9e09-ddf8-4340-9eeb-93e08965acb5",
   "metadata": {},
   "outputs": [],
   "source": [
    "plot_boxplot(\n",
    "    nome_arquivo='boxplot_night_EDA_P1.png',\n",
    "    titulo='Variabilidade em vela de noites minimas',\n",
    "    coluna='minimo_noites',\n",
    "    dataBase=dataBase, \n",
    "    legenda_x='Noites Minimas'\n",
    ")\n",
    "\n",
    "plot_boxplot(\n",
    "    nome_arquivo='boxplot_price_EDA_P1.png',\n",
    "    titulo='Variabilidade em vela de preços',\n",
    "    coluna='price',\n",
    "    dataBase=dataBase, \n",
    "    legenda_x='Preço'\n",
    ")\n",
    "\n",
    "plot_boxplot(\n",
    "    nome_arquivo='boxplot_reviews_EDA_P1.png',\n",
    "    titulo='Variabilidade em vela de Reviews',\n",
    "    coluna='numero_de_reviews',\n",
    "    dataBase=dataBase, \n",
    "    legenda_x='Reviews'\n",
    ")\n",
    "\n",
    "plot_boxplot(\n",
    "    nome_arquivo='boxplot_reviewPorMes_EDA_P1.png',\n",
    "    titulo='Variabilidade em vela de Reviews por mes',\n",
    "    coluna='reviews_por_mes',\n",
    "    dataBase=dataBase, \n",
    "    legenda_x='Reviews Por Mes'\n",
    ")\n",
    "\n",
    "plot_boxplot(\n",
    "    nome_arquivo='boxplot_listings_EDA_P1.png',\n",
    "    titulo='Variabilidade em vela de Listagens',\n",
    "    coluna='calculado_host_listings_count',\n",
    "    dataBase=dataBase, \n",
    "    legenda_x='Numero de Listagens'\n",
    ")\n",
    "\n",
    "plot_boxplot(\n",
    "    nome_arquivo='boxplot_disponibilidade_EDA_P1.png',\n",
    "    titulo='Variabilidade em vela de Disponibilidade',\n",
    "    coluna='disponibilidade_365',\n",
    "    dataBase=dataBase, \n",
    "    legenda_x='Disponibilidade'\n",
    ")"
   ]
  },
  {
   "cell_type": "markdown",
   "id": "c1798b1a-e233-487b-8636-fe1927124bd6",
   "metadata": {},
   "source": [
    "### Grafico de Calor"
   ]
  },
  {
   "cell_type": "code",
   "execution_count": null,
   "id": "9f0c8ce5-bb70-4191-9fca-61eb7eeb1944",
   "metadata": {},
   "outputs": [],
   "source": [
    "# Separar por bairros\n",
    "bairros = dataBase.groupby('bairro_group')\n",
    "\n",
    "# Fazer a mediana dos dados, para reduzir o efeito dos outliers\n",
    "mediana_por_bairro = bairros.agg({\n",
    "    'price': 'median',\n",
    "    'minimo_noites': 'median',\n",
    "    'numero_de_reviews': 'median',\n",
    "    'reviews_por_mes': 'median',\n",
    "    'disponibilidade_365': 'median',\n",
    "    'calculado_host_listings_count': 'median'\n",
    "})\n",
    "\n",
    "# Coloca os bairros em uma coluna \n",
    "mediana_por_bairro = mediana_por_bairro.reset_index()\n",
    "\n",
    "# Converter em formato longo para o heatmap (colunas viram linhas, para preservar bairros, nomes, mediana)\n",
    "dados_longos = mediana_por_bairro.melt(\n",
    "    id_vars=['bairro_group'],\n",
    "    var_name='metrica',\n",
    "    value_name='mediana'\n",
    ")\n",
    "\n",
    "plot_heatmap(\n",
    "    nome_arquivo='heatmap_medianas_EDA_P1.png', \n",
    "    titulo='Comparação de Medidas Centrais por Região',\n",
    "    dataBase=dados_longos,\n",
    "    valores='mediana',\n",
    "    indices='bairro_group',\n",
    "    colunas='metrica',\n",
    "    media=\"Valor Mediano\"\n",
    ")\n",
    "\n",
    "# Filtrar areas para analise\n",
    "metricas_principais = ['price', 'minimo_noites', 'numero_de_reviews', 'disponibilidade_365']\n",
    "dados_filtrados = dados_longos[dados_longos['metrica'].isin(metricas_principais)]\n",
    "\n",
    "# Plotar heatmap  com areas especificas\n",
    "plot_heatmap(\n",
    "    nome_arquivo='heatmap_medianas_selected_EDA_P1.png', \n",
    "    titulo='Principais Métricas de Aluguel por Região',\n",
    "    dataBase=dados_filtrados,\n",
    "    valores='mediana',\n",
    "    indices='bairro_group',\n",
    "    colunas='metrica',\n",
    "    media=\"Valor Central\"\n",
    ")"
   ]
  },
  {
   "cell_type": "code",
   "execution_count": null,
   "id": "5a1b8f17-4b10-45d2-95fa-893d23d0918c",
   "metadata": {},
   "outputs": [],
   "source": [
    "plot_scatter(\n",
    "    nome_arquivo='scatterplot_reviews_price_EDA_P1.png',\n",
    "    titulo='Preço vs. Número de Reviews por Região',\n",
    "    dataBase=dataBase,\n",
    "    x_col='numero_de_reviews',\n",
    "    y_col='price',\n",
    "    hue_col='bairro_group',\n",
    "    legenda_x='Número de Reviews',\n",
    "    legenda_y='Preço (USD)',\n",
    "    figsize=(12, 8)\n",
    ")"
   ]
  },
  {
   "cell_type": "markdown",
   "id": "395fec47-e25e-4091-9123-2401e7b3a9dd",
   "metadata": {},
   "source": [
    "## insights\n",
    "\n",
    "Então:\n",
    "O que conseguimos observar com clareza é a influencia que os valores extremos estão tendo em nossa analise inicial \\\n",
    "dificultando um entendimento geral, e a necessidade da limpeza e tratamento dos dados antes de proseguir.\n",
    "\n",
    "Temos 5 Regiões: 'Manhattan' 'Brooklyn' 'Queens' 'Staten Island' 'Bronx' \\\n",
    "Numero de bairros de cada região: \\\n",
    "( 1 ) Queens neighborhoods: 51 \\\n",
    "( 2 ) Bronx neighborhoods: 48 \\\n",
    "( 3 ) Brooklyn neighborhoods: 47 \\\n",
    "( 4 ) Staten Island neighborhoods: 43 \\\n",
    "( 5 ) Manhattan neighborhoods: 32 \\\n",
    "Numero total de bairros: 221 \n",
    "\n",
    "\n",
    "Também nós traz passos que devemos tomar a frente, principalmente em review. price, noites_minimas\n",
    "- *ultima_review* \\\n",
    "Está com um tipo ineficiente para tempo, um Object \\\n",
    "Ou seja, provavelmente em formato string, sendo ideal a troca para operações mais eficientes. como para o tipo datetime.\n",
    "- *reviews_por_mes* \\\n",
    "Apresenta o tipo float, sendo que não pode existir meio review, deverá ser convertido em uma Integer.\n",
    "- *host_name* \\\n",
    "  Valores \"NaN\". Que devem ser tratados para preservar a integridade da base de dados.\n",
    "- *nome* \\\n",
    "  Valores \"NaN\". ue devem ser tratados para preservar a integridade da base de dados.\n",
    "- *price* \\\n",
    "  Valor Minimo zero, o que indica um erro, ou estrategia para ganhar novos reviews. \\\n",
    "  Valor Maximo muito além do nosso desvio padrão.pk\n",
    "- *minimo_noites* \\\n",
    "  Valor Maximo muito além do nosso desvio padrão.\n",
    "- *preçoVsNumero_de_reviews* \\\n",
    "   Preçõs muito altos e sem reviews, podem demonstrar erros humanos de novos listings\n",
    "### hipótese review\n",
    "A falta de dados do tipo /*ultima review*/ e /*review_por_mes*/ deve ser devido a \n",
    "novos usuarios, caso /*numero_de_reviews*/ seja nulo \\\n",
    "Temos um novo User, Afinal:\n",
    "- *ultima review* / *review_por_mes* / *numero_de_reviews* \\\n",
    "\n",
    "Aparentemente são correlacionados e fortemente dependendes um dos outros, também trazem uma possibilidade de uma analise temporal \\\n",
    "Para ter certeza devemos ir mais a fundo, tavez tentar um Pair plot ou Scatter plot (2 variaveis)"
   ]
  },
  {
   "cell_type": "markdown",
   "id": "f434daf4-6b5a-4e62-bb6c-01a09378db08",
   "metadata": {},
   "source": [
    "# 2 - Limpeza e tratamento  "
   ]
  },
  {
   "cell_type": "markdown",
   "id": "3fdb073d-6c8c-4dc7-a553-a1c316e257ac",
   "metadata": {},
   "source": [
    "## Converter Tipos Errados"
   ]
  },
  {
   "cell_type": "code",
   "execution_count": null,
   "id": "d029d436-f371-4128-acb9-bc6ff0db8569",
   "metadata": {},
   "outputs": [],
   "source": [
    "import numpy as np"
   ]
  },
  {
   "cell_type": "code",
   "execution_count": null,
   "id": "226b6e9a-a90c-4523-9bab-e6e0a80fef91",
   "metadata": {},
   "outputs": [],
   "source": [
    "# Converter os dados errados\n",
    "\n",
    "dataBase['ultima_review'] = pd.to_datetime(\n",
    "    dataBase['ultima_review'],\n",
    "    errors='coerce',  # Convert invalid dates to NaT\n",
    "    format='%Y-%m-%d'  # Adjust to match your date format\n",
    ")\n",
    "# method de aredondar para cima, assim podemos evitar de substimar listings com atividade, levando-os para zero\n",
    "# Substituir NaN por 0\n",
    "dataBase['reviews_por_mes'] = (\n",
    "    dataBase['reviews_por_mes']\n",
    "    .fillna(0)                      # Handle any remaining nulls\n",
    "    .apply(np.ceil)                 # Round up decimals\n",
    "    .astype(int)                    # Convert to integer\n",
    ")\n",
    "\n",
    "dataBase['host_name'] = dataBase['host_name'].fillna('unknown_hostName')\n",
    "dataBase['nome'] = dataBase['nome'].fillna('unknown_host')\n",
    "\n",
    "# review_por_mes > 0 && ultima review is NaN | calculado_host_listings_count > 0 \n",
    "# checar se zero reviews, se traduz em zero reviews_por_mes e NaN ultima_review\n",
    "# igorar count_listing, usuario deve conseguir deletar seus listings, assim sendo possivel a permanencia desses dados com zero listings\n",
    "invalid_mask = ((dataBase['numero_de_reviews'] == 0) & ((dataBase['reviews_por_mes'] != 0) | dataBase['ultima_review'].notna()))\n",
    "invalid_cases = dataBase[invalid_mask]\n",
    "if not invalid_cases.empty:\n",
    "    print('Error - Dados invalidos!')\n",
    "else:\n",
    "    print('Ok')"
   ]
  },
  {
   "cell_type": "code",
   "execution_count": null,
   "id": "46580b95-a8b7-4b98-b8fd-9cb164a4775a",
   "metadata": {},
   "outputs": [],
   "source": [
    "dataBase.info()"
   ]
  },
  {
   "cell_type": "code",
   "execution_count": null,
   "id": "22af2d3d-7459-474e-ae25-62aa06ff70f0",
   "metadata": {},
   "outputs": [],
   "source": [
    "(dataBase.isnull()).sum()"
   ]
  },
  {
   "cell_type": "code",
   "execution_count": null,
   "id": "01ee8085-b555-4259-8c80-918660e3f87d",
   "metadata": {},
   "outputs": [],
   "source": [
    "\n",
    "# porcentagem de valores não presentes na base de dados (review).\n",
    "total = ultima_review = reviews_por_mes = 38842\n",
    "numero_de_reviews = 48894\n",
    "missing_percentual = (100 - (reviews_por_mes / numero_de_reviews) * 100)\n",
    "print(f\"Porcentagem de valores Nulos representa {missing_percentual:.1f}% de {numero_de_reviews}\")"
   ]
  },
  {
   "cell_type": "code",
   "execution_count": null,
   "id": "e6913e51-fadf-439e-9605-ca9eb6f16eb0",
   "metadata": {},
   "outputs": [],
   "source": [
    "#verificar se ambos ultima_review e reviews_por_mes são nulos, se sim, então é um novo usuario\n",
    "#null_last = dataBase['ultima_review'].isnull()\n",
    "#null_monthly = dataBase['reviews_por_mes'].isnull()\n",
    "\n",
    "#dataBase['novo'] = (null_last & null_monthly)"
   ]
  },
  {
   "cell_type": "code",
   "execution_count": null,
   "id": "007986d3-ef53-4b2a-ae34-930476668090",
   "metadata": {},
   "outputs": [],
   "source": [
    "# Verificar se há algum 'novo' com 'calculated_host_listings_count' maior que 1 ou menor ou igual a 0\n",
    "new_listings = dataBase[dataBase['novo'] == True]\n",
    "new_listings_error = any(new_listings['numero_de_reviews'] != 0)\n",
    "\n",
    "if new_listings_error :\n",
    "    print(\"yes\")\n",
    "else :\n",
    "    print(\"no\")\n"
   ]
  },
  {
   "cell_type": "code",
   "execution_count": null,
   "id": "df0a86ca-3ef6-4d4c-9664-2ac4a7505541",
   "metadata": {},
   "outputs": [],
   "source": [
    "# confirmar que tudo deu certo\n",
    "print(dataBase.info())\n",
    "dataBase.head(1)"
   ]
  },
  {
   "cell_type": "code",
   "execution_count": null,
   "id": "db65be8d-1664-466a-95a3-620a0569a0f6",
   "metadata": {},
   "outputs": [],
   "source": [
    "# Verificar se temos casos em que ultima review ou reviews_por_mes existe e o outro não para confirmar a teoria dos new listing\n",
    "null_last = dataBase['ultima_review'].isnull()\n",
    "null_monthly = dataBase['reviews_por_mes'].isnull()\n",
    "\n",
    "first_possibility = (null_last & ~null_monthly).any()\n",
    "secound_possibility = (~null_last & null_monthly).any()\n",
    "\n",
    "if first_possibility or secound_possibility :\n",
    "    print(\"yes\")\n",
    "else :\n",
    "    print(\"no\")"
   ]
  },
  {
   "cell_type": "markdown",
   "id": "ba6fa69d-b47a-426d-8e98-ab6cfc1b31bc",
   "metadata": {},
   "source": [
    "Com isso podemos ter certeza que nossa nova coluna está implementada de forma correta, e não temos valores que fujam dessa\n",
    "logica em que todos os listing sem novos reviews e sem historico, são novos listings.\n",
    "Continuaremos a entender melhor nossos dados com foco em bairro_group, bairro, room_type."
   ]
  },
  {
   "cell_type": "code",
   "execution_count": null,
   "id": "bff1b7c7-ed21-4198-baf7-7657deb372a1",
   "metadata": {},
   "outputs": [],
   "source": []
  }
 ],
 "metadata": {
  "kernelspec": {
   "display_name": "Python 3 (ipykernel)",
   "language": "python",
   "name": "python3"
  },
  "language_info": {
   "codemirror_mode": {
    "name": "ipython",
    "version": 3
   },
   "file_extension": ".py",
   "mimetype": "text/x-python",
   "name": "python",
   "nbconvert_exporter": "python",
   "pygments_lexer": "ipython3",
   "version": "3.10.12"
  }
 },
 "nbformat": 4,
 "nbformat_minor": 5
}
